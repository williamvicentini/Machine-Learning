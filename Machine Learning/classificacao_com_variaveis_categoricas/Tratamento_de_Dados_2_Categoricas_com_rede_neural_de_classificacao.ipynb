{
  "nbformat": 4,
  "nbformat_minor": 0,
  "metadata": {
    "colab": {
      "name": "Tratamento de Dados 2 - Categoricas - com rede neural de classificacao.ipynb",
      "provenance": []
    },
    "kernelspec": {
      "name": "python3",
      "display_name": "Python 3"
    }
  },
  "cells": [
    {
      "cell_type": "code",
      "metadata": {
        "id": "Vt7KGzsWPPjq"
      },
      "source": [
        "import pandas as pd\r\n",
        "import numpy as np\r\n",
        "import tensorflow as tf"
      ],
      "execution_count": 335,
      "outputs": []
    },
    {
      "cell_type": "code",
      "metadata": {
        "id": "YqWBVmfWQtEl"
      },
      "source": [
        "base = pd.read_csv('/content/census.csv')"
      ],
      "execution_count": 336,
      "outputs": []
    },
    {
      "cell_type": "code",
      "metadata": {
        "colab": {
          "base_uri": "https://localhost:8080/",
          "height": 204
        },
        "id": "G5jVYhRtQx21",
        "outputId": "67143a8f-ffb7-4984-80a8-5a4a5be8c566"
      },
      "source": [
        "base.head()"
      ],
      "execution_count": 337,
      "outputs": [
        {
          "output_type": "execute_result",
          "data": {
            "text/html": [
              "<div>\n",
              "<style scoped>\n",
              "    .dataframe tbody tr th:only-of-type {\n",
              "        vertical-align: middle;\n",
              "    }\n",
              "\n",
              "    .dataframe tbody tr th {\n",
              "        vertical-align: top;\n",
              "    }\n",
              "\n",
              "    .dataframe thead th {\n",
              "        text-align: right;\n",
              "    }\n",
              "</style>\n",
              "<table border=\"1\" class=\"dataframe\">\n",
              "  <thead>\n",
              "    <tr style=\"text-align: right;\">\n",
              "      <th></th>\n",
              "      <th>age</th>\n",
              "      <th>workclass</th>\n",
              "      <th>final-weight</th>\n",
              "      <th>education</th>\n",
              "      <th>education-num</th>\n",
              "      <th>marital-status</th>\n",
              "      <th>occupation</th>\n",
              "      <th>relationship</th>\n",
              "      <th>race</th>\n",
              "      <th>sex</th>\n",
              "      <th>capital-gain</th>\n",
              "      <th>capital-loos</th>\n",
              "      <th>hour-per-week</th>\n",
              "      <th>native-country</th>\n",
              "      <th>income</th>\n",
              "    </tr>\n",
              "  </thead>\n",
              "  <tbody>\n",
              "    <tr>\n",
              "      <th>0</th>\n",
              "      <td>39</td>\n",
              "      <td>State-gov</td>\n",
              "      <td>77516</td>\n",
              "      <td>Bachelors</td>\n",
              "      <td>13</td>\n",
              "      <td>Never-married</td>\n",
              "      <td>Adm-clerical</td>\n",
              "      <td>Not-in-family</td>\n",
              "      <td>White</td>\n",
              "      <td>Male</td>\n",
              "      <td>2174</td>\n",
              "      <td>0</td>\n",
              "      <td>40</td>\n",
              "      <td>United-States</td>\n",
              "      <td>&lt;=50K</td>\n",
              "    </tr>\n",
              "    <tr>\n",
              "      <th>1</th>\n",
              "      <td>50</td>\n",
              "      <td>Self-emp-not-inc</td>\n",
              "      <td>83311</td>\n",
              "      <td>Bachelors</td>\n",
              "      <td>13</td>\n",
              "      <td>Married-civ-spouse</td>\n",
              "      <td>Exec-managerial</td>\n",
              "      <td>Husband</td>\n",
              "      <td>White</td>\n",
              "      <td>Male</td>\n",
              "      <td>0</td>\n",
              "      <td>0</td>\n",
              "      <td>13</td>\n",
              "      <td>United-States</td>\n",
              "      <td>&lt;=50K</td>\n",
              "    </tr>\n",
              "    <tr>\n",
              "      <th>2</th>\n",
              "      <td>38</td>\n",
              "      <td>Private</td>\n",
              "      <td>215646</td>\n",
              "      <td>HS-grad</td>\n",
              "      <td>9</td>\n",
              "      <td>Divorced</td>\n",
              "      <td>Handlers-cleaners</td>\n",
              "      <td>Not-in-family</td>\n",
              "      <td>White</td>\n",
              "      <td>Male</td>\n",
              "      <td>0</td>\n",
              "      <td>0</td>\n",
              "      <td>40</td>\n",
              "      <td>United-States</td>\n",
              "      <td>&lt;=50K</td>\n",
              "    </tr>\n",
              "    <tr>\n",
              "      <th>3</th>\n",
              "      <td>53</td>\n",
              "      <td>Private</td>\n",
              "      <td>234721</td>\n",
              "      <td>11th</td>\n",
              "      <td>7</td>\n",
              "      <td>Married-civ-spouse</td>\n",
              "      <td>Handlers-cleaners</td>\n",
              "      <td>Husband</td>\n",
              "      <td>Black</td>\n",
              "      <td>Male</td>\n",
              "      <td>0</td>\n",
              "      <td>0</td>\n",
              "      <td>40</td>\n",
              "      <td>United-States</td>\n",
              "      <td>&lt;=50K</td>\n",
              "    </tr>\n",
              "    <tr>\n",
              "      <th>4</th>\n",
              "      <td>28</td>\n",
              "      <td>Private</td>\n",
              "      <td>338409</td>\n",
              "      <td>Bachelors</td>\n",
              "      <td>13</td>\n",
              "      <td>Married-civ-spouse</td>\n",
              "      <td>Prof-specialty</td>\n",
              "      <td>Wife</td>\n",
              "      <td>Black</td>\n",
              "      <td>Female</td>\n",
              "      <td>0</td>\n",
              "      <td>0</td>\n",
              "      <td>40</td>\n",
              "      <td>Cuba</td>\n",
              "      <td>&lt;=50K</td>\n",
              "    </tr>\n",
              "  </tbody>\n",
              "</table>\n",
              "</div>"
            ],
            "text/plain": [
              "   age          workclass  final-weight  ... hour-per-week  native-country  income\n",
              "0   39          State-gov         77516  ...            40   United-States   <=50K\n",
              "1   50   Self-emp-not-inc         83311  ...            13   United-States   <=50K\n",
              "2   38            Private        215646  ...            40   United-States   <=50K\n",
              "3   53            Private        234721  ...            40   United-States   <=50K\n",
              "4   28            Private        338409  ...            40            Cuba   <=50K\n",
              "\n",
              "[5 rows x 15 columns]"
            ]
          },
          "metadata": {
            "tags": []
          },
          "execution_count": 337
        }
      ]
    },
    {
      "cell_type": "code",
      "metadata": {
        "id": "1ww1GJH-RlPF"
      },
      "source": [
        "previsores = base.iloc[:,0:14].values"
      ],
      "execution_count": 338,
      "outputs": []
    },
    {
      "cell_type": "code",
      "metadata": {
        "colab": {
          "base_uri": "https://localhost:8080/"
        },
        "id": "Yvi95GA5Rt6d",
        "outputId": "60a1666d-0358-44b9-cf21-74b3ffa498c3"
      },
      "source": [
        "previsores"
      ],
      "execution_count": 339,
      "outputs": [
        {
          "output_type": "execute_result",
          "data": {
            "text/plain": [
              "array([[39, ' State-gov', 77516, ..., 0, 40, ' United-States'],\n",
              "       [50, ' Self-emp-not-inc', 83311, ..., 0, 13, ' United-States'],\n",
              "       [38, ' Private', 215646, ..., 0, 40, ' United-States'],\n",
              "       ...,\n",
              "       [58, ' Private', 151910, ..., 0, 40, ' United-States'],\n",
              "       [22, ' Private', 201490, ..., 0, 20, ' United-States'],\n",
              "       [52, ' Self-emp-inc', 287927, ..., 0, 40, ' United-States']],\n",
              "      dtype=object)"
            ]
          },
          "metadata": {
            "tags": []
          },
          "execution_count": 339
        }
      ]
    },
    {
      "cell_type": "code",
      "metadata": {
        "id": "Ib9Nq4lBR5tt"
      },
      "source": [
        "saida = base.iloc[:,14].values"
      ],
      "execution_count": 340,
      "outputs": []
    },
    {
      "cell_type": "code",
      "metadata": {
        "colab": {
          "base_uri": "https://localhost:8080/"
        },
        "id": "jrM0GrvJSAD1",
        "outputId": "2cdac904-8338-4662-be8e-717ce9a78d6c"
      },
      "source": [
        "saida"
      ],
      "execution_count": 341,
      "outputs": [
        {
          "output_type": "execute_result",
          "data": {
            "text/plain": [
              "array([' <=50K', ' <=50K', ' <=50K', ..., ' <=50K', ' <=50K', ' >50K'],\n",
              "      dtype=object)"
            ]
          },
          "metadata": {
            "tags": []
          },
          "execution_count": 341
        }
      ]
    },
    {
      "cell_type": "markdown",
      "metadata": {
        "id": "GJVJ1dfzSKjc"
      },
      "source": [
        "Converter as variaveis categoricas em numericas\r\n"
      ]
    },
    {
      "cell_type": "code",
      "metadata": {
        "id": "599ONfJ-SKFt"
      },
      "source": [
        "from sklearn.preprocessing import LabelEncoder, OneHotEncoder\r\n",
        "from sklearn.compose import ColumnTransformer\r\n",
        "labelencoder_previsores = LabelEncoder()"
      ],
      "execution_count": 342,
      "outputs": []
    },
    {
      "cell_type": "code",
      "metadata": {
        "colab": {
          "base_uri": "https://localhost:8080/"
        },
        "id": "8CbI2Zq8SyXI",
        "outputId": "9ddbd779-6cf3-4d70-e50d-0060c2b0dc15"
      },
      "source": [
        "previsores"
      ],
      "execution_count": 343,
      "outputs": [
        {
          "output_type": "execute_result",
          "data": {
            "text/plain": [
              "array([[39, ' State-gov', 77516, ..., 0, 40, ' United-States'],\n",
              "       [50, ' Self-emp-not-inc', 83311, ..., 0, 13, ' United-States'],\n",
              "       [38, ' Private', 215646, ..., 0, 40, ' United-States'],\n",
              "       ...,\n",
              "       [58, ' Private', 151910, ..., 0, 40, ' United-States'],\n",
              "       [22, ' Private', 201490, ..., 0, 20, ' United-States'],\n",
              "       [52, ' Self-emp-inc', 287927, ..., 0, 40, ' United-States']],\n",
              "      dtype=object)"
            ]
          },
          "metadata": {
            "tags": []
          },
          "execution_count": 343
        }
      ]
    },
    {
      "cell_type": "code",
      "metadata": {
        "id": "Chww1wehULAl"
      },
      "source": [
        "onehotencorder = ColumnTransformer(transformers=[(\"OneHot\", OneHotEncoder(), [1,3,5,6,7,8,9,13])],remainder='passthrough')\r\n",
        "previsores = onehotencorder.fit_transform(previsores).toarray()"
      ],
      "execution_count": 344,
      "outputs": []
    },
    {
      "cell_type": "code",
      "metadata": {
        "colab": {
          "base_uri": "https://localhost:8080/"
        },
        "id": "s3s1SfxnUPZs",
        "outputId": "b31ad09b-2354-45c4-e809-b31432813dbc"
      },
      "source": [
        "previsores"
      ],
      "execution_count": 345,
      "outputs": [
        {
          "output_type": "execute_result",
          "data": {
            "text/plain": [
              "array([[0.0000e+00, 0.0000e+00, 0.0000e+00, ..., 2.1740e+03, 0.0000e+00,\n",
              "        4.0000e+01],\n",
              "       [0.0000e+00, 0.0000e+00, 0.0000e+00, ..., 0.0000e+00, 0.0000e+00,\n",
              "        1.3000e+01],\n",
              "       [0.0000e+00, 0.0000e+00, 0.0000e+00, ..., 0.0000e+00, 0.0000e+00,\n",
              "        4.0000e+01],\n",
              "       ...,\n",
              "       [0.0000e+00, 0.0000e+00, 0.0000e+00, ..., 0.0000e+00, 0.0000e+00,\n",
              "        4.0000e+01],\n",
              "       [0.0000e+00, 0.0000e+00, 0.0000e+00, ..., 0.0000e+00, 0.0000e+00,\n",
              "        2.0000e+01],\n",
              "       [0.0000e+00, 0.0000e+00, 0.0000e+00, ..., 1.5024e+04, 0.0000e+00,\n",
              "        4.0000e+01]])"
            ]
          },
          "metadata": {
            "tags": []
          },
          "execution_count": 345
        }
      ]
    },
    {
      "cell_type": "code",
      "metadata": {
        "id": "d1Zijz1iU9zN"
      },
      "source": [
        "labelencorder_saida = LabelEncoder()\r\n",
        "saida = labelencorder_saida.fit_transform(saida)"
      ],
      "execution_count": 346,
      "outputs": []
    },
    {
      "cell_type": "code",
      "metadata": {
        "colab": {
          "base_uri": "https://localhost:8080/"
        },
        "id": "AvEXJyjlVDrM",
        "outputId": "e0b56506-ff5f-4659-a826-f6adf99648b3"
      },
      "source": [
        "saida"
      ],
      "execution_count": 347,
      "outputs": [
        {
          "output_type": "execute_result",
          "data": {
            "text/plain": [
              "array([0, 0, 0, ..., 0, 0, 1])"
            ]
          },
          "metadata": {
            "tags": []
          },
          "execution_count": 347
        }
      ]
    },
    {
      "cell_type": "code",
      "metadata": {
        "id": "3FcyYNfsVHAU"
      },
      "source": [
        "from sklearn.preprocessing import StandardScaler\r\n",
        "scaler = StandardScaler(with_mean=False)\r\n",
        "previsores = scaler.fit_transform(previsores)"
      ],
      "execution_count": 348,
      "outputs": []
    },
    {
      "cell_type": "code",
      "metadata": {
        "colab": {
          "base_uri": "https://localhost:8080/"
        },
        "id": "TY6GtaydVIV-",
        "outputId": "f3a83292-5412-40c2-a6d7-c496fae30933"
      },
      "source": [
        "previsores"
      ],
      "execution_count": 349,
      "outputs": [
        {
          "output_type": "execute_result",
          "data": {
            "text/plain": [
              "array([[0.        , 0.        , 0.        , ..., 0.29437338, 0.        ,\n",
              "        3.23959063],\n",
              "       [0.        , 0.        , 0.        , ..., 0.        , 0.        ,\n",
              "        1.05286695],\n",
              "       [0.        , 0.        , 0.        , ..., 0.        , 0.        ,\n",
              "        3.23959063],\n",
              "       ...,\n",
              "       [0.        , 0.        , 0.        , ..., 0.        , 0.        ,\n",
              "        3.23959063],\n",
              "       [0.        , 0.        , 0.        , ..., 0.        , 0.        ,\n",
              "        1.61979531],\n",
              "       [0.        , 0.        , 0.        , ..., 2.03434482, 0.        ,\n",
              "        3.23959063]])"
            ]
          },
          "metadata": {
            "tags": []
          },
          "execution_count": 349
        }
      ]
    },
    {
      "cell_type": "code",
      "metadata": {
        "id": "_JyajnHJVrPs"
      },
      "source": [
        "from sklearn.model_selection import train_test_split\r\n",
        "X_train, X_test, y_train, y_test = train_test_split(previsores, saida, test_size = 0.2, random_state = 5)"
      ],
      "execution_count": 350,
      "outputs": []
    },
    {
      "cell_type": "code",
      "metadata": {
        "colab": {
          "base_uri": "https://localhost:8080/"
        },
        "id": "Pesq__laVu7d",
        "outputId": "eaaf7125-9b89-43f1-8cf9-51e2e39475ab"
      },
      "source": [
        "X_train.shape"
      ],
      "execution_count": 351,
      "outputs": [
        {
          "output_type": "execute_result",
          "data": {
            "text/plain": [
              "(26048, 108)"
            ]
          },
          "metadata": {
            "tags": []
          },
          "execution_count": 351
        }
      ]
    },
    {
      "cell_type": "code",
      "metadata": {
        "colab": {
          "base_uri": "https://localhost:8080/"
        },
        "id": "jYWidx-hVv50",
        "outputId": "e1d96a1c-7204-4cd8-ccdd-103de508c48d"
      },
      "source": [
        "y_train.shape"
      ],
      "execution_count": 352,
      "outputs": [
        {
          "output_type": "execute_result",
          "data": {
            "text/plain": [
              "(26048,)"
            ]
          },
          "metadata": {
            "tags": []
          },
          "execution_count": 352
        }
      ]
    },
    {
      "cell_type": "code",
      "metadata": {
        "id": "ZGh2GxBZV0N0"
      },
      "source": [
        "classifier = tf.keras.models.Sequential()\r\n",
        "classifier.add(tf.keras.layers.Dense(units=100, activation='relu', input_shape=(108, )))\r\n",
        "classifier.add(tf.keras.layers.Dense(units=100, activation='relu'))\r\n",
        "classifier.add(tf.keras.layers.Dense(units=1, activation='sigmoid'))"
      ],
      "execution_count": 354,
      "outputs": []
    },
    {
      "cell_type": "code",
      "metadata": {
        "colab": {
          "base_uri": "https://localhost:8080/"
        },
        "id": "_7KPw5EXV7Mk",
        "outputId": "86473559-9ab6-4c76-eb8b-05cbb3f14481"
      },
      "source": [
        "classifier.summary()"
      ],
      "execution_count": 353,
      "outputs": [
        {
          "output_type": "stream",
          "text": [
            "Model: \"sequential_4\"\n",
            "_________________________________________________________________\n",
            "Layer (type)                 Output Shape              Param #   \n",
            "=================================================================\n",
            "dense_12 (Dense)             (None, 100)               10900     \n",
            "_________________________________________________________________\n",
            "dense_13 (Dense)             (None, 100)               10100     \n",
            "_________________________________________________________________\n",
            "dense_14 (Dense)             (None, 1)                 101       \n",
            "=================================================================\n",
            "Total params: 21,101\n",
            "Trainable params: 21,101\n",
            "Non-trainable params: 0\n",
            "_________________________________________________________________\n"
          ],
          "name": "stdout"
        }
      ]
    },
    {
      "cell_type": "code",
      "metadata": {
        "id": "HR3NAiTvV9X2"
      },
      "source": [
        "classifier.compile(optimizer='Adam', loss='binary_crossentropy', metrics = ['accuracy'])"
      ],
      "execution_count": 355,
      "outputs": []
    },
    {
      "cell_type": "code",
      "metadata": {
        "colab": {
          "base_uri": "https://localhost:8080/"
        },
        "id": "mg3eBCIdV_w1",
        "outputId": "5739cbec-17da-409c-b644-24b9b5252363"
      },
      "source": [
        "epochs_hist = classifier.fit(X_train, y_train, epochs=200)"
      ],
      "execution_count": 356,
      "outputs": [
        {
          "output_type": "stream",
          "text": [
            "Epoch 1/200\n",
            "814/814 [==============================] - 2s 2ms/step - loss: 0.4115 - accuracy: 0.8026\n",
            "Epoch 2/200\n",
            "814/814 [==============================] - 1s 1ms/step - loss: 0.3276 - accuracy: 0.8436\n",
            "Epoch 3/200\n",
            "814/814 [==============================] - 1s 2ms/step - loss: 0.3147 - accuracy: 0.8539\n",
            "Epoch 4/200\n",
            "814/814 [==============================] - 1s 2ms/step - loss: 0.3083 - accuracy: 0.8574\n",
            "Epoch 5/200\n",
            "814/814 [==============================] - 1s 1ms/step - loss: 0.3044 - accuracy: 0.8571\n",
            "Epoch 6/200\n",
            "814/814 [==============================] - 1s 2ms/step - loss: 0.2930 - accuracy: 0.8601\n",
            "Epoch 7/200\n",
            "814/814 [==============================] - 1s 2ms/step - loss: 0.2889 - accuracy: 0.8637\n",
            "Epoch 8/200\n",
            "814/814 [==============================] - 1s 1ms/step - loss: 0.2842 - accuracy: 0.8665\n",
            "Epoch 9/200\n",
            "814/814 [==============================] - 1s 1ms/step - loss: 0.2766 - accuracy: 0.8691\n",
            "Epoch 10/200\n",
            "814/814 [==============================] - 1s 1ms/step - loss: 0.2731 - accuracy: 0.8721\n",
            "Epoch 11/200\n",
            "814/814 [==============================] - 1s 1ms/step - loss: 0.2707 - accuracy: 0.8754\n",
            "Epoch 12/200\n",
            "814/814 [==============================] - 1s 2ms/step - loss: 0.2625 - accuracy: 0.8789\n",
            "Epoch 13/200\n",
            "814/814 [==============================] - 1s 2ms/step - loss: 0.2593 - accuracy: 0.8785\n",
            "Epoch 14/200\n",
            "814/814 [==============================] - 1s 1ms/step - loss: 0.2599 - accuracy: 0.8759\n",
            "Epoch 15/200\n",
            "814/814 [==============================] - 1s 2ms/step - loss: 0.2560 - accuracy: 0.8821\n",
            "Epoch 16/200\n",
            "814/814 [==============================] - 1s 2ms/step - loss: 0.2467 - accuracy: 0.8870\n",
            "Epoch 17/200\n",
            "814/814 [==============================] - 1s 2ms/step - loss: 0.2414 - accuracy: 0.8893\n",
            "Epoch 18/200\n",
            "814/814 [==============================] - 2s 2ms/step - loss: 0.2357 - accuracy: 0.8882\n",
            "Epoch 19/200\n",
            "814/814 [==============================] - 1s 2ms/step - loss: 0.2370 - accuracy: 0.8888\n",
            "Epoch 20/200\n",
            "814/814 [==============================] - 1s 2ms/step - loss: 0.2328 - accuracy: 0.8926\n",
            "Epoch 21/200\n",
            "814/814 [==============================] - 1s 1ms/step - loss: 0.2312 - accuracy: 0.8890\n",
            "Epoch 22/200\n",
            "814/814 [==============================] - 1s 2ms/step - loss: 0.2248 - accuracy: 0.8934\n",
            "Epoch 23/200\n",
            "814/814 [==============================] - 1s 1ms/step - loss: 0.2275 - accuracy: 0.8936\n",
            "Epoch 24/200\n",
            "814/814 [==============================] - 1s 2ms/step - loss: 0.2193 - accuracy: 0.8971\n",
            "Epoch 25/200\n",
            "814/814 [==============================] - 1s 2ms/step - loss: 0.2166 - accuracy: 0.9015\n",
            "Epoch 26/200\n",
            "814/814 [==============================] - 1s 2ms/step - loss: 0.2125 - accuracy: 0.9019\n",
            "Epoch 27/200\n",
            "814/814 [==============================] - 1s 2ms/step - loss: 0.2127 - accuracy: 0.8992\n",
            "Epoch 28/200\n",
            "814/814 [==============================] - 1s 2ms/step - loss: 0.2116 - accuracy: 0.9014\n",
            "Epoch 29/200\n",
            "814/814 [==============================] - 1s 2ms/step - loss: 0.2098 - accuracy: 0.8988\n",
            "Epoch 30/200\n",
            "814/814 [==============================] - 1s 2ms/step - loss: 0.2115 - accuracy: 0.8982\n",
            "Epoch 31/200\n",
            "814/814 [==============================] - 1s 2ms/step - loss: 0.2047 - accuracy: 0.9046\n",
            "Epoch 32/200\n",
            "814/814 [==============================] - 1s 2ms/step - loss: 0.2004 - accuracy: 0.9039\n",
            "Epoch 33/200\n",
            "814/814 [==============================] - 1s 2ms/step - loss: 0.2000 - accuracy: 0.9057\n",
            "Epoch 34/200\n",
            "814/814 [==============================] - 1s 2ms/step - loss: 0.2007 - accuracy: 0.9072\n",
            "Epoch 35/200\n",
            "814/814 [==============================] - 1s 2ms/step - loss: 0.1957 - accuracy: 0.9092\n",
            "Epoch 36/200\n",
            "814/814 [==============================] - 1s 2ms/step - loss: 0.1920 - accuracy: 0.9094\n",
            "Epoch 37/200\n",
            "814/814 [==============================] - 1s 2ms/step - loss: 0.1944 - accuracy: 0.9080\n",
            "Epoch 38/200\n",
            "814/814 [==============================] - 1s 2ms/step - loss: 0.1898 - accuracy: 0.9106\n",
            "Epoch 39/200\n",
            "814/814 [==============================] - 1s 2ms/step - loss: 0.1867 - accuracy: 0.9127\n",
            "Epoch 40/200\n",
            "814/814 [==============================] - 1s 2ms/step - loss: 0.1896 - accuracy: 0.9130\n",
            "Epoch 41/200\n",
            "814/814 [==============================] - 1s 1ms/step - loss: 0.1840 - accuracy: 0.9141\n",
            "Epoch 42/200\n",
            "814/814 [==============================] - 1s 2ms/step - loss: 0.1836 - accuracy: 0.9153\n",
            "Epoch 43/200\n",
            "814/814 [==============================] - 1s 2ms/step - loss: 0.1833 - accuracy: 0.9130\n",
            "Epoch 44/200\n",
            "814/814 [==============================] - 1s 2ms/step - loss: 0.1813 - accuracy: 0.9144\n",
            "Epoch 45/200\n",
            "814/814 [==============================] - 1s 2ms/step - loss: 0.1765 - accuracy: 0.9141\n",
            "Epoch 46/200\n",
            "814/814 [==============================] - 1s 2ms/step - loss: 0.1832 - accuracy: 0.9157\n",
            "Epoch 47/200\n",
            "814/814 [==============================] - 1s 2ms/step - loss: 0.1794 - accuracy: 0.9151\n",
            "Epoch 48/200\n",
            "814/814 [==============================] - 1s 2ms/step - loss: 0.1746 - accuracy: 0.9198\n",
            "Epoch 49/200\n",
            "814/814 [==============================] - 1s 1ms/step - loss: 0.1761 - accuracy: 0.9151\n",
            "Epoch 50/200\n",
            "814/814 [==============================] - 1s 2ms/step - loss: 0.1768 - accuracy: 0.9170\n",
            "Epoch 51/200\n",
            "814/814 [==============================] - 1s 2ms/step - loss: 0.1721 - accuracy: 0.9173\n",
            "Epoch 52/200\n",
            "814/814 [==============================] - 1s 2ms/step - loss: 0.1716 - accuracy: 0.9187\n",
            "Epoch 53/200\n",
            "814/814 [==============================] - 1s 2ms/step - loss: 0.1731 - accuracy: 0.9190\n",
            "Epoch 54/200\n",
            "814/814 [==============================] - 1s 2ms/step - loss: 0.1690 - accuracy: 0.9185\n",
            "Epoch 55/200\n",
            "814/814 [==============================] - 1s 2ms/step - loss: 0.1681 - accuracy: 0.9232\n",
            "Epoch 56/200\n",
            "814/814 [==============================] - 1s 2ms/step - loss: 0.1685 - accuracy: 0.9214\n",
            "Epoch 57/200\n",
            "814/814 [==============================] - 1s 2ms/step - loss: 0.1668 - accuracy: 0.9207\n",
            "Epoch 58/200\n",
            "814/814 [==============================] - 1s 2ms/step - loss: 0.1614 - accuracy: 0.9239\n",
            "Epoch 59/200\n",
            "814/814 [==============================] - 1s 2ms/step - loss: 0.1645 - accuracy: 0.9226\n",
            "Epoch 60/200\n",
            "814/814 [==============================] - 1s 2ms/step - loss: 0.1639 - accuracy: 0.9241\n",
            "Epoch 61/200\n",
            "814/814 [==============================] - 1s 2ms/step - loss: 0.1610 - accuracy: 0.9256\n",
            "Epoch 62/200\n",
            "814/814 [==============================] - 1s 2ms/step - loss: 0.1632 - accuracy: 0.9223\n",
            "Epoch 63/200\n",
            "814/814 [==============================] - 1s 1ms/step - loss: 0.1597 - accuracy: 0.9238\n",
            "Epoch 64/200\n",
            "814/814 [==============================] - 1s 2ms/step - loss: 0.1608 - accuracy: 0.9231\n",
            "Epoch 65/200\n",
            "814/814 [==============================] - 1s 2ms/step - loss: 0.1650 - accuracy: 0.9230\n",
            "Epoch 66/200\n",
            "814/814 [==============================] - 1s 2ms/step - loss: 0.1583 - accuracy: 0.9252\n",
            "Epoch 67/200\n",
            "814/814 [==============================] - 1s 2ms/step - loss: 0.1573 - accuracy: 0.9256\n",
            "Epoch 68/200\n",
            "814/814 [==============================] - 1s 2ms/step - loss: 0.1541 - accuracy: 0.9267\n",
            "Epoch 69/200\n",
            "814/814 [==============================] - 1s 2ms/step - loss: 0.1587 - accuracy: 0.9263\n",
            "Epoch 70/200\n",
            "814/814 [==============================] - 1s 2ms/step - loss: 0.1532 - accuracy: 0.9291\n",
            "Epoch 71/200\n",
            "814/814 [==============================] - 1s 2ms/step - loss: 0.1562 - accuracy: 0.9263\n",
            "Epoch 72/200\n",
            "814/814 [==============================] - 1s 2ms/step - loss: 0.1554 - accuracy: 0.9257\n",
            "Epoch 73/200\n",
            "814/814 [==============================] - 1s 2ms/step - loss: 0.1529 - accuracy: 0.9258\n",
            "Epoch 74/200\n",
            "814/814 [==============================] - 1s 2ms/step - loss: 0.1510 - accuracy: 0.9293\n",
            "Epoch 75/200\n",
            "814/814 [==============================] - 1s 2ms/step - loss: 0.1568 - accuracy: 0.9247\n",
            "Epoch 76/200\n",
            "814/814 [==============================] - 1s 2ms/step - loss: 0.1470 - accuracy: 0.9307\n",
            "Epoch 77/200\n",
            "814/814 [==============================] - 1s 2ms/step - loss: 0.1514 - accuracy: 0.9286\n",
            "Epoch 78/200\n",
            "814/814 [==============================] - 1s 2ms/step - loss: 0.1524 - accuracy: 0.9271\n",
            "Epoch 79/200\n",
            "814/814 [==============================] - 1s 2ms/step - loss: 0.1464 - accuracy: 0.9299\n",
            "Epoch 80/200\n",
            "814/814 [==============================] - 1s 2ms/step - loss: 0.1494 - accuracy: 0.9295\n",
            "Epoch 81/200\n",
            "814/814 [==============================] - 1s 2ms/step - loss: 0.1497 - accuracy: 0.9317\n",
            "Epoch 82/200\n",
            "814/814 [==============================] - 1s 2ms/step - loss: 0.1486 - accuracy: 0.9326\n",
            "Epoch 83/200\n",
            "814/814 [==============================] - 1s 2ms/step - loss: 0.1493 - accuracy: 0.9310\n",
            "Epoch 84/200\n",
            "814/814 [==============================] - 1s 2ms/step - loss: 0.1469 - accuracy: 0.9298\n",
            "Epoch 85/200\n",
            "814/814 [==============================] - 1s 2ms/step - loss: 0.1431 - accuracy: 0.9310\n",
            "Epoch 86/200\n",
            "814/814 [==============================] - 1s 2ms/step - loss: 0.1423 - accuracy: 0.9333\n",
            "Epoch 87/200\n",
            "814/814 [==============================] - 1s 2ms/step - loss: 0.1440 - accuracy: 0.9325\n",
            "Epoch 88/200\n",
            "814/814 [==============================] - 1s 2ms/step - loss: 0.1430 - accuracy: 0.9329\n",
            "Epoch 89/200\n",
            "814/814 [==============================] - 1s 2ms/step - loss: 0.1455 - accuracy: 0.9323\n",
            "Epoch 90/200\n",
            "814/814 [==============================] - 1s 2ms/step - loss: 0.1425 - accuracy: 0.9335\n",
            "Epoch 91/200\n",
            "814/814 [==============================] - 1s 2ms/step - loss: 0.1430 - accuracy: 0.9331\n",
            "Epoch 92/200\n",
            "814/814 [==============================] - 1s 2ms/step - loss: 0.1398 - accuracy: 0.9339\n",
            "Epoch 93/200\n",
            "814/814 [==============================] - 1s 1ms/step - loss: 0.1418 - accuracy: 0.9319\n",
            "Epoch 94/200\n",
            "814/814 [==============================] - 1s 2ms/step - loss: 0.1407 - accuracy: 0.9326\n",
            "Epoch 95/200\n",
            "814/814 [==============================] - 1s 2ms/step - loss: 0.1387 - accuracy: 0.9345\n",
            "Epoch 96/200\n",
            "814/814 [==============================] - 1s 2ms/step - loss: 0.1355 - accuracy: 0.9347\n",
            "Epoch 97/200\n",
            "814/814 [==============================] - 1s 2ms/step - loss: 0.1382 - accuracy: 0.9353\n",
            "Epoch 98/200\n",
            "814/814 [==============================] - 1s 2ms/step - loss: 0.1345 - accuracy: 0.9360\n",
            "Epoch 99/200\n",
            "814/814 [==============================] - 1s 2ms/step - loss: 0.1364 - accuracy: 0.9360\n",
            "Epoch 100/200\n",
            "814/814 [==============================] - 1s 2ms/step - loss: 0.1434 - accuracy: 0.9314\n",
            "Epoch 101/200\n",
            "814/814 [==============================] - 1s 2ms/step - loss: 0.1329 - accuracy: 0.9383\n",
            "Epoch 102/200\n",
            "814/814 [==============================] - 1s 2ms/step - loss: 0.1390 - accuracy: 0.9336\n",
            "Epoch 103/200\n",
            "814/814 [==============================] - 1s 2ms/step - loss: 0.1311 - accuracy: 0.9361\n",
            "Epoch 104/200\n",
            "814/814 [==============================] - 1s 2ms/step - loss: 0.1345 - accuracy: 0.9362\n",
            "Epoch 105/200\n",
            "814/814 [==============================] - 1s 2ms/step - loss: 0.1315 - accuracy: 0.9400\n",
            "Epoch 106/200\n",
            "814/814 [==============================] - 1s 2ms/step - loss: 0.1332 - accuracy: 0.9376\n",
            "Epoch 107/200\n",
            "814/814 [==============================] - 1s 2ms/step - loss: 0.1353 - accuracy: 0.9369\n",
            "Epoch 108/200\n",
            "814/814 [==============================] - 1s 2ms/step - loss: 0.1318 - accuracy: 0.9385\n",
            "Epoch 109/200\n",
            "814/814 [==============================] - 1s 2ms/step - loss: 0.1299 - accuracy: 0.9398\n",
            "Epoch 110/200\n",
            "814/814 [==============================] - 1s 2ms/step - loss: 0.1365 - accuracy: 0.9373\n",
            "Epoch 111/200\n",
            "814/814 [==============================] - 1s 2ms/step - loss: 0.1314 - accuracy: 0.9375\n",
            "Epoch 112/200\n",
            "814/814 [==============================] - 1s 2ms/step - loss: 0.1298 - accuracy: 0.9398\n",
            "Epoch 113/200\n",
            "814/814 [==============================] - 1s 2ms/step - loss: 0.1290 - accuracy: 0.9400\n",
            "Epoch 114/200\n",
            "814/814 [==============================] - 1s 2ms/step - loss: 0.1322 - accuracy: 0.9373\n",
            "Epoch 115/200\n",
            "814/814 [==============================] - 1s 2ms/step - loss: 0.1266 - accuracy: 0.9416\n",
            "Epoch 116/200\n",
            "814/814 [==============================] - 1s 2ms/step - loss: 0.1275 - accuracy: 0.9403\n",
            "Epoch 117/200\n",
            "814/814 [==============================] - 1s 2ms/step - loss: 0.1294 - accuracy: 0.9380\n",
            "Epoch 118/200\n",
            "814/814 [==============================] - 1s 2ms/step - loss: 0.1310 - accuracy: 0.9381\n",
            "Epoch 119/200\n",
            "814/814 [==============================] - 1s 2ms/step - loss: 0.1260 - accuracy: 0.9406\n",
            "Epoch 120/200\n",
            "814/814 [==============================] - 1s 2ms/step - loss: 0.1251 - accuracy: 0.9406\n",
            "Epoch 121/200\n",
            "814/814 [==============================] - 1s 2ms/step - loss: 0.1266 - accuracy: 0.9401\n",
            "Epoch 122/200\n",
            "814/814 [==============================] - 1s 2ms/step - loss: 0.1305 - accuracy: 0.9385\n",
            "Epoch 123/200\n",
            "814/814 [==============================] - 1s 2ms/step - loss: 0.1258 - accuracy: 0.9405\n",
            "Epoch 124/200\n",
            "814/814 [==============================] - 1s 2ms/step - loss: 0.1273 - accuracy: 0.9377\n",
            "Epoch 125/200\n",
            "814/814 [==============================] - 1s 2ms/step - loss: 0.1281 - accuracy: 0.9401\n",
            "Epoch 126/200\n",
            "814/814 [==============================] - 1s 2ms/step - loss: 0.1239 - accuracy: 0.9437\n",
            "Epoch 127/200\n",
            "814/814 [==============================] - 1s 2ms/step - loss: 0.1238 - accuracy: 0.9399\n",
            "Epoch 128/200\n",
            "814/814 [==============================] - 1s 2ms/step - loss: 0.1280 - accuracy: 0.9401\n",
            "Epoch 129/200\n",
            "814/814 [==============================] - 1s 2ms/step - loss: 0.1256 - accuracy: 0.9399\n",
            "Epoch 130/200\n",
            "814/814 [==============================] - 1s 2ms/step - loss: 0.1248 - accuracy: 0.9397\n",
            "Epoch 131/200\n",
            "814/814 [==============================] - 1s 2ms/step - loss: 0.1216 - accuracy: 0.9439\n",
            "Epoch 132/200\n",
            "814/814 [==============================] - 1s 2ms/step - loss: 0.1256 - accuracy: 0.9409\n",
            "Epoch 133/200\n",
            "814/814 [==============================] - 1s 2ms/step - loss: 0.1241 - accuracy: 0.9435\n",
            "Epoch 134/200\n",
            "814/814 [==============================] - 1s 2ms/step - loss: 0.1231 - accuracy: 0.9404\n",
            "Epoch 135/200\n",
            "814/814 [==============================] - 1s 2ms/step - loss: 0.1238 - accuracy: 0.9400\n",
            "Epoch 136/200\n",
            "814/814 [==============================] - 1s 2ms/step - loss: 0.1211 - accuracy: 0.9435\n",
            "Epoch 137/200\n",
            "814/814 [==============================] - 1s 2ms/step - loss: 0.1204 - accuracy: 0.9435\n",
            "Epoch 138/200\n",
            "814/814 [==============================] - 1s 2ms/step - loss: 0.1228 - accuracy: 0.9420\n",
            "Epoch 139/200\n",
            "814/814 [==============================] - 1s 2ms/step - loss: 0.1234 - accuracy: 0.9422\n",
            "Epoch 140/200\n",
            "814/814 [==============================] - 1s 2ms/step - loss: 0.1181 - accuracy: 0.9445\n",
            "Epoch 141/200\n",
            "814/814 [==============================] - 1s 2ms/step - loss: 0.1208 - accuracy: 0.9431\n",
            "Epoch 142/200\n",
            "814/814 [==============================] - 1s 2ms/step - loss: 0.1141 - accuracy: 0.9472\n",
            "Epoch 143/200\n",
            "814/814 [==============================] - 1s 2ms/step - loss: 0.1216 - accuracy: 0.9417\n",
            "Epoch 144/200\n",
            "814/814 [==============================] - 1s 2ms/step - loss: 0.1224 - accuracy: 0.9438\n",
            "Epoch 145/200\n",
            "814/814 [==============================] - 1s 2ms/step - loss: 0.1195 - accuracy: 0.9434\n",
            "Epoch 146/200\n",
            "814/814 [==============================] - 1s 2ms/step - loss: 0.1166 - accuracy: 0.9465\n",
            "Epoch 147/200\n",
            "814/814 [==============================] - 1s 2ms/step - loss: 0.1187 - accuracy: 0.9444\n",
            "Epoch 148/200\n",
            "814/814 [==============================] - 1s 2ms/step - loss: 0.1184 - accuracy: 0.9458\n",
            "Epoch 149/200\n",
            "814/814 [==============================] - 1s 2ms/step - loss: 0.1210 - accuracy: 0.9441\n",
            "Epoch 150/200\n",
            "814/814 [==============================] - 1s 2ms/step - loss: 0.1202 - accuracy: 0.9431\n",
            "Epoch 151/200\n",
            "814/814 [==============================] - 1s 2ms/step - loss: 0.1116 - accuracy: 0.9481\n",
            "Epoch 152/200\n",
            "814/814 [==============================] - 1s 2ms/step - loss: 0.1173 - accuracy: 0.9446\n",
            "Epoch 153/200\n",
            "814/814 [==============================] - 1s 2ms/step - loss: 0.1197 - accuracy: 0.9432\n",
            "Epoch 154/200\n",
            "814/814 [==============================] - 1s 2ms/step - loss: 0.1169 - accuracy: 0.9444\n",
            "Epoch 155/200\n",
            "814/814 [==============================] - 1s 2ms/step - loss: 0.1164 - accuracy: 0.9433\n",
            "Epoch 156/200\n",
            "814/814 [==============================] - 1s 2ms/step - loss: 0.1202 - accuracy: 0.9431\n",
            "Epoch 157/200\n",
            "814/814 [==============================] - 1s 2ms/step - loss: 0.1151 - accuracy: 0.9459\n",
            "Epoch 158/200\n",
            "814/814 [==============================] - 1s 2ms/step - loss: 0.1162 - accuracy: 0.9446\n",
            "Epoch 159/200\n",
            "814/814 [==============================] - 1s 2ms/step - loss: 0.1140 - accuracy: 0.9465\n",
            "Epoch 160/200\n",
            "814/814 [==============================] - 1s 2ms/step - loss: 0.1176 - accuracy: 0.9443\n",
            "Epoch 161/200\n",
            "814/814 [==============================] - 1s 2ms/step - loss: 0.1166 - accuracy: 0.9443\n",
            "Epoch 162/200\n",
            "814/814 [==============================] - 1s 2ms/step - loss: 0.1112 - accuracy: 0.9477\n",
            "Epoch 163/200\n",
            "814/814 [==============================] - 1s 2ms/step - loss: 0.1108 - accuracy: 0.9483\n",
            "Epoch 164/200\n",
            "814/814 [==============================] - 1s 2ms/step - loss: 0.1113 - accuracy: 0.9459\n",
            "Epoch 165/200\n",
            "814/814 [==============================] - 1s 2ms/step - loss: 0.1136 - accuracy: 0.9452\n",
            "Epoch 166/200\n",
            "814/814 [==============================] - 1s 2ms/step - loss: 0.1174 - accuracy: 0.9454\n",
            "Epoch 167/200\n",
            "814/814 [==============================] - 1s 2ms/step - loss: 0.1144 - accuracy: 0.9469\n",
            "Epoch 168/200\n",
            "814/814 [==============================] - 1s 2ms/step - loss: 0.1121 - accuracy: 0.9482\n",
            "Epoch 169/200\n",
            "814/814 [==============================] - 1s 2ms/step - loss: 0.1155 - accuracy: 0.9453\n",
            "Epoch 170/200\n",
            "814/814 [==============================] - 1s 2ms/step - loss: 0.1122 - accuracy: 0.9472\n",
            "Epoch 171/200\n",
            "814/814 [==============================] - 1s 2ms/step - loss: 0.1095 - accuracy: 0.9467\n",
            "Epoch 172/200\n",
            "814/814 [==============================] - 1s 2ms/step - loss: 0.1129 - accuracy: 0.9463\n",
            "Epoch 173/200\n",
            "814/814 [==============================] - 1s 2ms/step - loss: 0.1110 - accuracy: 0.9470\n",
            "Epoch 174/200\n",
            "814/814 [==============================] - 1s 2ms/step - loss: 0.1168 - accuracy: 0.9461\n",
            "Epoch 175/200\n",
            "814/814 [==============================] - 1s 2ms/step - loss: 0.1141 - accuracy: 0.9460\n",
            "Epoch 176/200\n",
            "814/814 [==============================] - 1s 2ms/step - loss: 0.1175 - accuracy: 0.9473\n",
            "Epoch 177/200\n",
            "814/814 [==============================] - 1s 2ms/step - loss: 0.1127 - accuracy: 0.9442\n",
            "Epoch 178/200\n",
            "814/814 [==============================] - 1s 2ms/step - loss: 0.1045 - accuracy: 0.9524\n",
            "Epoch 179/200\n",
            "814/814 [==============================] - 1s 2ms/step - loss: 0.1078 - accuracy: 0.9494\n",
            "Epoch 180/200\n",
            "814/814 [==============================] - 1s 2ms/step - loss: 0.1074 - accuracy: 0.9505\n",
            "Epoch 181/200\n",
            "814/814 [==============================] - 1s 2ms/step - loss: 0.1138 - accuracy: 0.9476\n",
            "Epoch 182/200\n",
            "814/814 [==============================] - 1s 2ms/step - loss: 0.1099 - accuracy: 0.9494\n",
            "Epoch 183/200\n",
            "814/814 [==============================] - 1s 2ms/step - loss: 0.1129 - accuracy: 0.9477\n",
            "Epoch 184/200\n",
            "814/814 [==============================] - 1s 2ms/step - loss: 0.1042 - accuracy: 0.9503\n",
            "Epoch 185/200\n",
            "814/814 [==============================] - 1s 2ms/step - loss: 0.1081 - accuracy: 0.9493\n",
            "Epoch 186/200\n",
            "814/814 [==============================] - 1s 2ms/step - loss: 0.1070 - accuracy: 0.9469\n",
            "Epoch 187/200\n",
            "814/814 [==============================] - 1s 2ms/step - loss: 0.1053 - accuracy: 0.9514\n",
            "Epoch 188/200\n",
            "814/814 [==============================] - 1s 2ms/step - loss: 0.1068 - accuracy: 0.9497\n",
            "Epoch 189/200\n",
            "814/814 [==============================] - 1s 2ms/step - loss: 0.1097 - accuracy: 0.9463\n",
            "Epoch 190/200\n",
            "814/814 [==============================] - 1s 2ms/step - loss: 0.1108 - accuracy: 0.9474\n",
            "Epoch 191/200\n",
            "814/814 [==============================] - 1s 2ms/step - loss: 0.1083 - accuracy: 0.9458\n",
            "Epoch 192/200\n",
            "814/814 [==============================] - 1s 2ms/step - loss: 0.1120 - accuracy: 0.9460\n",
            "Epoch 193/200\n",
            "814/814 [==============================] - 1s 2ms/step - loss: 0.1050 - accuracy: 0.9497\n",
            "Epoch 194/200\n",
            "814/814 [==============================] - 1s 2ms/step - loss: 0.1057 - accuracy: 0.9500\n",
            "Epoch 195/200\n",
            "814/814 [==============================] - 1s 2ms/step - loss: 0.1055 - accuracy: 0.9492\n",
            "Epoch 196/200\n",
            "814/814 [==============================] - 1s 2ms/step - loss: 0.1068 - accuracy: 0.9499\n",
            "Epoch 197/200\n",
            "814/814 [==============================] - 1s 2ms/step - loss: 0.1068 - accuracy: 0.9483\n",
            "Epoch 198/200\n",
            "814/814 [==============================] - 1s 2ms/step - loss: 0.1036 - accuracy: 0.9529\n",
            "Epoch 199/200\n",
            "814/814 [==============================] - 1s 2ms/step - loss: 0.1035 - accuracy: 0.9502\n",
            "Epoch 200/200\n",
            "814/814 [==============================] - 1s 2ms/step - loss: 0.1070 - accuracy: 0.9491\n"
          ],
          "name": "stdout"
        }
      ]
    },
    {
      "cell_type": "code",
      "metadata": {
        "id": "piku5E0WXil1"
      },
      "source": [
        "entrada = [[39,' State-gov',77516,' Bachelors',13,' Never-married',' Adm-clerical',' Not-in-family',' White',' Male',2174,0,40,' United-States']]"
      ],
      "execution_count": 357,
      "outputs": []
    },
    {
      "cell_type": "code",
      "metadata": {
        "id": "ltZJwPkybPwz"
      },
      "source": [
        "entradaencoded = onehotencorder.transform(entrada)"
      ],
      "execution_count": 358,
      "outputs": []
    },
    {
      "cell_type": "code",
      "metadata": {
        "id": "upM4TIMNb2uN"
      },
      "source": [
        "entradaescalonada = scaler.transform(entradaencoded)"
      ],
      "execution_count": 359,
      "outputs": []
    },
    {
      "cell_type": "code",
      "metadata": {
        "id": "I82I3Y75fqUf"
      },
      "source": [
        "previsao = classifier.predict(entradaescalonada)"
      ],
      "execution_count": 360,
      "outputs": []
    },
    {
      "cell_type": "code",
      "metadata": {
        "colab": {
          "base_uri": "https://localhost:8080/"
        },
        "id": "FxOYzjpCe-RU",
        "outputId": "9225d6c4-b1ce-44ef-bb11-f8d6dfe17027"
      },
      "source": [
        "labelencorder_saida.inverse_transform(previsao[0].astype(int))"
      ],
      "execution_count": 361,
      "outputs": [
        {
          "output_type": "execute_result",
          "data": {
            "text/plain": [
              "array([' <=50K'], dtype=object)"
            ]
          },
          "metadata": {
            "tags": []
          },
          "execution_count": 361
        }
      ]
    },
    {
      "cell_type": "code",
      "metadata": {
        "colab": {
          "base_uri": "https://localhost:8080/",
          "height": 589
        },
        "id": "ulmwSKvnhNCk",
        "outputId": "4c645b82-470e-4b47-d5bf-2764f0d148f0"
      },
      "source": [
        "base.loc[base['income'] == ' >50K']"
      ],
      "execution_count": 362,
      "outputs": [
        {
          "output_type": "execute_result",
          "data": {
            "text/html": [
              "<div>\n",
              "<style scoped>\n",
              "    .dataframe tbody tr th:only-of-type {\n",
              "        vertical-align: middle;\n",
              "    }\n",
              "\n",
              "    .dataframe tbody tr th {\n",
              "        vertical-align: top;\n",
              "    }\n",
              "\n",
              "    .dataframe thead th {\n",
              "        text-align: right;\n",
              "    }\n",
              "</style>\n",
              "<table border=\"1\" class=\"dataframe\">\n",
              "  <thead>\n",
              "    <tr style=\"text-align: right;\">\n",
              "      <th></th>\n",
              "      <th>age</th>\n",
              "      <th>workclass</th>\n",
              "      <th>final-weight</th>\n",
              "      <th>education</th>\n",
              "      <th>education-num</th>\n",
              "      <th>marital-status</th>\n",
              "      <th>occupation</th>\n",
              "      <th>relationship</th>\n",
              "      <th>race</th>\n",
              "      <th>sex</th>\n",
              "      <th>capital-gain</th>\n",
              "      <th>capital-loos</th>\n",
              "      <th>hour-per-week</th>\n",
              "      <th>native-country</th>\n",
              "      <th>income</th>\n",
              "    </tr>\n",
              "  </thead>\n",
              "  <tbody>\n",
              "    <tr>\n",
              "      <th>7</th>\n",
              "      <td>52</td>\n",
              "      <td>Self-emp-not-inc</td>\n",
              "      <td>209642</td>\n",
              "      <td>HS-grad</td>\n",
              "      <td>9</td>\n",
              "      <td>Married-civ-spouse</td>\n",
              "      <td>Exec-managerial</td>\n",
              "      <td>Husband</td>\n",
              "      <td>White</td>\n",
              "      <td>Male</td>\n",
              "      <td>0</td>\n",
              "      <td>0</td>\n",
              "      <td>45</td>\n",
              "      <td>United-States</td>\n",
              "      <td>&gt;50K</td>\n",
              "    </tr>\n",
              "    <tr>\n",
              "      <th>8</th>\n",
              "      <td>31</td>\n",
              "      <td>Private</td>\n",
              "      <td>45781</td>\n",
              "      <td>Masters</td>\n",
              "      <td>14</td>\n",
              "      <td>Never-married</td>\n",
              "      <td>Prof-specialty</td>\n",
              "      <td>Not-in-family</td>\n",
              "      <td>White</td>\n",
              "      <td>Female</td>\n",
              "      <td>14084</td>\n",
              "      <td>0</td>\n",
              "      <td>50</td>\n",
              "      <td>United-States</td>\n",
              "      <td>&gt;50K</td>\n",
              "    </tr>\n",
              "    <tr>\n",
              "      <th>9</th>\n",
              "      <td>42</td>\n",
              "      <td>Private</td>\n",
              "      <td>159449</td>\n",
              "      <td>Bachelors</td>\n",
              "      <td>13</td>\n",
              "      <td>Married-civ-spouse</td>\n",
              "      <td>Exec-managerial</td>\n",
              "      <td>Husband</td>\n",
              "      <td>White</td>\n",
              "      <td>Male</td>\n",
              "      <td>5178</td>\n",
              "      <td>0</td>\n",
              "      <td>40</td>\n",
              "      <td>United-States</td>\n",
              "      <td>&gt;50K</td>\n",
              "    </tr>\n",
              "    <tr>\n",
              "      <th>10</th>\n",
              "      <td>37</td>\n",
              "      <td>Private</td>\n",
              "      <td>280464</td>\n",
              "      <td>Some-college</td>\n",
              "      <td>10</td>\n",
              "      <td>Married-civ-spouse</td>\n",
              "      <td>Exec-managerial</td>\n",
              "      <td>Husband</td>\n",
              "      <td>Black</td>\n",
              "      <td>Male</td>\n",
              "      <td>0</td>\n",
              "      <td>0</td>\n",
              "      <td>80</td>\n",
              "      <td>United-States</td>\n",
              "      <td>&gt;50K</td>\n",
              "    </tr>\n",
              "    <tr>\n",
              "      <th>11</th>\n",
              "      <td>30</td>\n",
              "      <td>State-gov</td>\n",
              "      <td>141297</td>\n",
              "      <td>Bachelors</td>\n",
              "      <td>13</td>\n",
              "      <td>Married-civ-spouse</td>\n",
              "      <td>Prof-specialty</td>\n",
              "      <td>Husband</td>\n",
              "      <td>Asian-Pac-Islander</td>\n",
              "      <td>Male</td>\n",
              "      <td>0</td>\n",
              "      <td>0</td>\n",
              "      <td>40</td>\n",
              "      <td>India</td>\n",
              "      <td>&gt;50K</td>\n",
              "    </tr>\n",
              "    <tr>\n",
              "      <th>...</th>\n",
              "      <td>...</td>\n",
              "      <td>...</td>\n",
              "      <td>...</td>\n",
              "      <td>...</td>\n",
              "      <td>...</td>\n",
              "      <td>...</td>\n",
              "      <td>...</td>\n",
              "      <td>...</td>\n",
              "      <td>...</td>\n",
              "      <td>...</td>\n",
              "      <td>...</td>\n",
              "      <td>...</td>\n",
              "      <td>...</td>\n",
              "      <td>...</td>\n",
              "      <td>...</td>\n",
              "    </tr>\n",
              "    <tr>\n",
              "      <th>32539</th>\n",
              "      <td>71</td>\n",
              "      <td>?</td>\n",
              "      <td>287372</td>\n",
              "      <td>Doctorate</td>\n",
              "      <td>16</td>\n",
              "      <td>Married-civ-spouse</td>\n",
              "      <td>?</td>\n",
              "      <td>Husband</td>\n",
              "      <td>White</td>\n",
              "      <td>Male</td>\n",
              "      <td>0</td>\n",
              "      <td>0</td>\n",
              "      <td>10</td>\n",
              "      <td>United-States</td>\n",
              "      <td>&gt;50K</td>\n",
              "    </tr>\n",
              "    <tr>\n",
              "      <th>32545</th>\n",
              "      <td>39</td>\n",
              "      <td>Local-gov</td>\n",
              "      <td>111499</td>\n",
              "      <td>Assoc-acdm</td>\n",
              "      <td>12</td>\n",
              "      <td>Married-civ-spouse</td>\n",
              "      <td>Adm-clerical</td>\n",
              "      <td>Wife</td>\n",
              "      <td>White</td>\n",
              "      <td>Female</td>\n",
              "      <td>0</td>\n",
              "      <td>0</td>\n",
              "      <td>20</td>\n",
              "      <td>United-States</td>\n",
              "      <td>&gt;50K</td>\n",
              "    </tr>\n",
              "    <tr>\n",
              "      <th>32554</th>\n",
              "      <td>53</td>\n",
              "      <td>Private</td>\n",
              "      <td>321865</td>\n",
              "      <td>Masters</td>\n",
              "      <td>14</td>\n",
              "      <td>Married-civ-spouse</td>\n",
              "      <td>Exec-managerial</td>\n",
              "      <td>Husband</td>\n",
              "      <td>White</td>\n",
              "      <td>Male</td>\n",
              "      <td>0</td>\n",
              "      <td>0</td>\n",
              "      <td>40</td>\n",
              "      <td>United-States</td>\n",
              "      <td>&gt;50K</td>\n",
              "    </tr>\n",
              "    <tr>\n",
              "      <th>32557</th>\n",
              "      <td>40</td>\n",
              "      <td>Private</td>\n",
              "      <td>154374</td>\n",
              "      <td>HS-grad</td>\n",
              "      <td>9</td>\n",
              "      <td>Married-civ-spouse</td>\n",
              "      <td>Machine-op-inspct</td>\n",
              "      <td>Husband</td>\n",
              "      <td>White</td>\n",
              "      <td>Male</td>\n",
              "      <td>0</td>\n",
              "      <td>0</td>\n",
              "      <td>40</td>\n",
              "      <td>United-States</td>\n",
              "      <td>&gt;50K</td>\n",
              "    </tr>\n",
              "    <tr>\n",
              "      <th>32560</th>\n",
              "      <td>52</td>\n",
              "      <td>Self-emp-inc</td>\n",
              "      <td>287927</td>\n",
              "      <td>HS-grad</td>\n",
              "      <td>9</td>\n",
              "      <td>Married-civ-spouse</td>\n",
              "      <td>Exec-managerial</td>\n",
              "      <td>Wife</td>\n",
              "      <td>White</td>\n",
              "      <td>Female</td>\n",
              "      <td>15024</td>\n",
              "      <td>0</td>\n",
              "      <td>40</td>\n",
              "      <td>United-States</td>\n",
              "      <td>&gt;50K</td>\n",
              "    </tr>\n",
              "  </tbody>\n",
              "</table>\n",
              "<p>7841 rows × 15 columns</p>\n",
              "</div>"
            ],
            "text/plain": [
              "       age          workclass  ...  native-country income\n",
              "7       52   Self-emp-not-inc  ...   United-States   >50K\n",
              "8       31            Private  ...   United-States   >50K\n",
              "9       42            Private  ...   United-States   >50K\n",
              "10      37            Private  ...   United-States   >50K\n",
              "11      30          State-gov  ...           India   >50K\n",
              "...    ...                ...  ...             ...    ...\n",
              "32539   71                  ?  ...   United-States   >50K\n",
              "32545   39          Local-gov  ...   United-States   >50K\n",
              "32554   53            Private  ...   United-States   >50K\n",
              "32557   40            Private  ...   United-States   >50K\n",
              "32560   52       Self-emp-inc  ...   United-States   >50K\n",
              "\n",
              "[7841 rows x 15 columns]"
            ]
          },
          "metadata": {
            "tags": []
          },
          "execution_count": 362
        }
      ]
    },
    {
      "cell_type": "code",
      "metadata": {
        "id": "ZrjgA0EjipQ0"
      },
      "source": [
        "entrada = base.loc[base['income'] == ' >50K']"
      ],
      "execution_count": 363,
      "outputs": []
    },
    {
      "cell_type": "code",
      "metadata": {
        "id": "ekpQMlrmllD0"
      },
      "source": [
        "entrada = base.loc[base['income'] == ' >50K'].iloc[1:2,0:14]"
      ],
      "execution_count": 364,
      "outputs": []
    },
    {
      "cell_type": "code",
      "metadata": {
        "colab": {
          "base_uri": "https://localhost:8080/",
          "height": 80
        },
        "id": "kpB8evlqmCKF",
        "outputId": "6ac10876-afce-4855-a914-441f0c2ccb3a"
      },
      "source": [
        "entrada"
      ],
      "execution_count": 365,
      "outputs": [
        {
          "output_type": "execute_result",
          "data": {
            "text/html": [
              "<div>\n",
              "<style scoped>\n",
              "    .dataframe tbody tr th:only-of-type {\n",
              "        vertical-align: middle;\n",
              "    }\n",
              "\n",
              "    .dataframe tbody tr th {\n",
              "        vertical-align: top;\n",
              "    }\n",
              "\n",
              "    .dataframe thead th {\n",
              "        text-align: right;\n",
              "    }\n",
              "</style>\n",
              "<table border=\"1\" class=\"dataframe\">\n",
              "  <thead>\n",
              "    <tr style=\"text-align: right;\">\n",
              "      <th></th>\n",
              "      <th>age</th>\n",
              "      <th>workclass</th>\n",
              "      <th>final-weight</th>\n",
              "      <th>education</th>\n",
              "      <th>education-num</th>\n",
              "      <th>marital-status</th>\n",
              "      <th>occupation</th>\n",
              "      <th>relationship</th>\n",
              "      <th>race</th>\n",
              "      <th>sex</th>\n",
              "      <th>capital-gain</th>\n",
              "      <th>capital-loos</th>\n",
              "      <th>hour-per-week</th>\n",
              "      <th>native-country</th>\n",
              "    </tr>\n",
              "  </thead>\n",
              "  <tbody>\n",
              "    <tr>\n",
              "      <th>8</th>\n",
              "      <td>31</td>\n",
              "      <td>Private</td>\n",
              "      <td>45781</td>\n",
              "      <td>Masters</td>\n",
              "      <td>14</td>\n",
              "      <td>Never-married</td>\n",
              "      <td>Prof-specialty</td>\n",
              "      <td>Not-in-family</td>\n",
              "      <td>White</td>\n",
              "      <td>Female</td>\n",
              "      <td>14084</td>\n",
              "      <td>0</td>\n",
              "      <td>50</td>\n",
              "      <td>United-States</td>\n",
              "    </tr>\n",
              "  </tbody>\n",
              "</table>\n",
              "</div>"
            ],
            "text/plain": [
              "   age workclass  final-weight  ... capital-loos  hour-per-week  native-country\n",
              "8   31   Private         45781  ...            0             50   United-States\n",
              "\n",
              "[1 rows x 14 columns]"
            ]
          },
          "metadata": {
            "tags": []
          },
          "execution_count": 365
        }
      ]
    },
    {
      "cell_type": "code",
      "metadata": {
        "id": "jliIIBASjCOM"
      },
      "source": [
        "entradaencoded = onehotencorder.transform(entrada)"
      ],
      "execution_count": 366,
      "outputs": []
    },
    {
      "cell_type": "code",
      "metadata": {
        "id": "jtcaxzlRjD40"
      },
      "source": [
        "entradaescalonada = scaler.transform(entradaencoded)"
      ],
      "execution_count": 368,
      "outputs": []
    },
    {
      "cell_type": "code",
      "metadata": {
        "colab": {
          "base_uri": "https://localhost:8080/"
        },
        "id": "0dXJgPnqjF21",
        "outputId": "f84e7dae-cc7b-439d-efdc-f2ef7db1d767"
      },
      "source": [
        "previsao = classifier.predict(entradaescalonada)\r\n",
        "previsao"
      ],
      "execution_count": 369,
      "outputs": [
        {
          "output_type": "execute_result",
          "data": {
            "text/plain": [
              "array([[1.]], dtype=float32)"
            ]
          },
          "metadata": {
            "tags": []
          },
          "execution_count": 369
        }
      ]
    },
    {
      "cell_type": "code",
      "metadata": {
        "colab": {
          "base_uri": "https://localhost:8080/",
          "height": 35
        },
        "id": "YsC8HrlNjK_z",
        "outputId": "6ffd37de-875c-49a7-a79d-029df191d090"
      },
      "source": [
        "labelencorder_saida.inverse_transform(previsao[0].astype(int))[0]"
      ],
      "execution_count": 371,
      "outputs": [
        {
          "output_type": "execute_result",
          "data": {
            "application/vnd.google.colaboratory.intrinsic+json": {
              "type": "string"
            },
            "text/plain": [
              "' >50K'"
            ]
          },
          "metadata": {
            "tags": []
          },
          "execution_count": 371
        }
      ]
    },
    {
      "cell_type": "markdown",
      "metadata": {
        "id": "Wc2Q8xNyqrBJ"
      },
      "source": [
        "Salvar Modelo e Serializar os Encoders\r\n"
      ]
    },
    {
      "cell_type": "code",
      "metadata": {
        "id": "M4nIPNxRmTDL"
      },
      "source": [
        "classifier.save('modelosalvo.h5')"
      ],
      "execution_count": 376,
      "outputs": []
    },
    {
      "cell_type": "code",
      "metadata": {
        "id": "fbjC5Ko3mVHD"
      },
      "source": [
        "novo_modelo = tf.keras.models.load_model('modelosalvo.h5')"
      ],
      "execution_count": 377,
      "outputs": []
    },
    {
      "cell_type": "code",
      "metadata": {
        "colab": {
          "base_uri": "https://localhost:8080/"
        },
        "id": "LmUt_u_omXG7",
        "outputId": "73256ebc-591b-4be1-9b74-367d4782f20e"
      },
      "source": [
        "novo_modelo.summary()"
      ],
      "execution_count": 378,
      "outputs": [
        {
          "output_type": "stream",
          "text": [
            "Model: \"sequential_5\"\n",
            "_________________________________________________________________\n",
            "Layer (type)                 Output Shape              Param #   \n",
            "=================================================================\n",
            "dense_15 (Dense)             (None, 100)               10900     \n",
            "_________________________________________________________________\n",
            "dense_16 (Dense)             (None, 100)               10100     \n",
            "_________________________________________________________________\n",
            "dense_17 (Dense)             (None, 1)                 101       \n",
            "=================================================================\n",
            "Total params: 21,101\n",
            "Trainable params: 21,101\n",
            "Non-trainable params: 0\n",
            "_________________________________________________________________\n"
          ],
          "name": "stdout"
        }
      ]
    },
    {
      "cell_type": "code",
      "metadata": {
        "colab": {
          "base_uri": "https://localhost:8080/"
        },
        "id": "j5r24O-fmZNk",
        "outputId": "e01b5549-83c8-4851-ac20-f760cd0a9412"
      },
      "source": [
        "loss, acc = novo_modelo.evaluate(previsores, saida, verbose=2)\r\n",
        "print('Modelo Restaurado, Precisão: {:5.2f}%'.format(100 * acc))"
      ],
      "execution_count": 379,
      "outputs": [
        {
          "output_type": "stream",
          "text": [
            "1018/1018 - 1s - loss: 0.4641 - accuracy: 0.9277\n",
            "Modelo Restaurado, Precisão: 92.77%\n"
          ],
          "name": "stdout"
        }
      ]
    },
    {
      "cell_type": "code",
      "metadata": {
        "colab": {
          "base_uri": "https://localhost:8080/"
        },
        "id": "9K6B3bkRqwIW",
        "outputId": "6228a5d4-ccf0-423d-e1b6-6f9777eaa8dc"
      },
      "source": [
        "from joblib import dump, load\r\n",
        "dump(onehotencorder, 'dicionario.joblib')"
      ],
      "execution_count": 383,
      "outputs": [
        {
          "output_type": "execute_result",
          "data": {
            "text/plain": [
              "['dicionario.joblib']"
            ]
          },
          "metadata": {
            "tags": []
          },
          "execution_count": 383
        }
      ]
    },
    {
      "cell_type": "code",
      "metadata": {
        "id": "l8ZQDFBQtzD6"
      },
      "source": [
        "onehotencodernovo = load('dicionario.joblib')"
      ],
      "execution_count": 384,
      "outputs": []
    },
    {
      "cell_type": "code",
      "metadata": {
        "colab": {
          "base_uri": "https://localhost:8080/"
        },
        "id": "AIah43lwt4MZ",
        "outputId": "e65a1ed3-5224-4e29-e798-e55c46123d8a"
      },
      "source": [
        "onehotencodernovo"
      ],
      "execution_count": 385,
      "outputs": [
        {
          "output_type": "execute_result",
          "data": {
            "text/plain": [
              "ColumnTransformer(n_jobs=None, remainder='passthrough', sparse_threshold=0.3,\n",
              "                  transformer_weights=None,\n",
              "                  transformers=[('OneHot',\n",
              "                                 OneHotEncoder(categories='auto', drop=None,\n",
              "                                               dtype=<class 'numpy.float64'>,\n",
              "                                               handle_unknown='error',\n",
              "                                               sparse=True),\n",
              "                                 [1, 3, 5, 6, 7, 8, 9, 13])],\n",
              "                  verbose=False)"
            ]
          },
          "metadata": {
            "tags": []
          },
          "execution_count": 385
        }
      ]
    },
    {
      "cell_type": "code",
      "metadata": {
        "colab": {
          "base_uri": "https://localhost:8080/"
        },
        "id": "3GELAUqQt9O4",
        "outputId": "877e79f4-6df3-4d12-d652-f7183617e286"
      },
      "source": [
        "dump(labelencorder_saida, 'saidadicionario.joblib')"
      ],
      "execution_count": 386,
      "outputs": [
        {
          "output_type": "execute_result",
          "data": {
            "text/plain": [
              "['saidadicionario.joblib']"
            ]
          },
          "metadata": {
            "tags": []
          },
          "execution_count": 386
        }
      ]
    },
    {
      "cell_type": "code",
      "metadata": {
        "id": "DU0i1slOuCw4"
      },
      "source": [
        "labelencorder_saidanovo = load('saidadicionario.joblib')"
      ],
      "execution_count": 387,
      "outputs": []
    },
    {
      "cell_type": "code",
      "metadata": {
        "colab": {
          "base_uri": "https://localhost:8080/"
        },
        "id": "WT0qef-EuF4I",
        "outputId": "46c0a9c7-0231-4ec4-8824-29c2ea2de6f0"
      },
      "source": [
        "labelencorder_saidanovo"
      ],
      "execution_count": 388,
      "outputs": [
        {
          "output_type": "execute_result",
          "data": {
            "text/plain": [
              "LabelEncoder()"
            ]
          },
          "metadata": {
            "tags": []
          },
          "execution_count": 388
        }
      ]
    }
  ]
}