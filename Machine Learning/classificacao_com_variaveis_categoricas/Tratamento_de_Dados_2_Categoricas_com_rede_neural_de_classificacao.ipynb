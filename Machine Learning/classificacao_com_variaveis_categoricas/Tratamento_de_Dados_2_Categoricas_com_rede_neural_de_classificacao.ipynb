{
  "nbformat": 4,
  "nbformat_minor": 0,
  "metadata": {
    "colab": {
      "name": "Tratamento de Dados 2 - Categoricas - com rede neural de classificacao.ipynb",
      "provenance": []
    },
    "kernelspec": {
      "name": "python3",
      "display_name": "Python 3"
    }
  },
  "cells": [
    {
      "cell_type": "code",
      "metadata": {
        "id": "Vt7KGzsWPPjq"
      },
      "source": [
        "import pandas as pd\r\n",
        "import numpy as np\r\n",
        "import tensorflow as tf"
      ],
      "execution_count": 392,
      "outputs": []
    },
    {
      "cell_type": "code",
      "metadata": {
        "id": "YqWBVmfWQtEl"
      },
      "source": [
        "base = pd.read_csv('/content/census.csv')"
      ],
      "execution_count": 393,
      "outputs": []
    },
    {
      "cell_type": "code",
      "metadata": {
        "id": "VvBfka3TznlD"
      },
      "source": [
        "def trim_all_columns(df):\r\n",
        "    trim_strings = lambda x: x.strip() if isinstance(x, str) else x\r\n",
        "    return df.applymap(trim_strings)"
      ],
      "execution_count": 394,
      "outputs": []
    },
    {
      "cell_type": "code",
      "metadata": {
        "id": "dH3kIUx3zqQy"
      },
      "source": [
        "base = trim_all_columns(base)"
      ],
      "execution_count": 395,
      "outputs": []
    },
    {
      "cell_type": "code",
      "metadata": {
        "colab": {
          "base_uri": "https://localhost:8080/",
          "height": 204
        },
        "id": "G5jVYhRtQx21",
        "outputId": "c5313b13-bbda-43b9-9f35-c8e2b9977430"
      },
      "source": [
        "base.head()"
      ],
      "execution_count": 396,
      "outputs": [
        {
          "output_type": "execute_result",
          "data": {
            "text/html": [
              "<div>\n",
              "<style scoped>\n",
              "    .dataframe tbody tr th:only-of-type {\n",
              "        vertical-align: middle;\n",
              "    }\n",
              "\n",
              "    .dataframe tbody tr th {\n",
              "        vertical-align: top;\n",
              "    }\n",
              "\n",
              "    .dataframe thead th {\n",
              "        text-align: right;\n",
              "    }\n",
              "</style>\n",
              "<table border=\"1\" class=\"dataframe\">\n",
              "  <thead>\n",
              "    <tr style=\"text-align: right;\">\n",
              "      <th></th>\n",
              "      <th>age</th>\n",
              "      <th>workclass</th>\n",
              "      <th>final-weight</th>\n",
              "      <th>education</th>\n",
              "      <th>education-num</th>\n",
              "      <th>marital-status</th>\n",
              "      <th>occupation</th>\n",
              "      <th>relationship</th>\n",
              "      <th>race</th>\n",
              "      <th>sex</th>\n",
              "      <th>capital-gain</th>\n",
              "      <th>capital-loos</th>\n",
              "      <th>hour-per-week</th>\n",
              "      <th>native-country</th>\n",
              "      <th>income</th>\n",
              "    </tr>\n",
              "  </thead>\n",
              "  <tbody>\n",
              "    <tr>\n",
              "      <th>0</th>\n",
              "      <td>39</td>\n",
              "      <td>State-gov</td>\n",
              "      <td>77516</td>\n",
              "      <td>Bachelors</td>\n",
              "      <td>13</td>\n",
              "      <td>Never-married</td>\n",
              "      <td>Adm-clerical</td>\n",
              "      <td>Not-in-family</td>\n",
              "      <td>White</td>\n",
              "      <td>Male</td>\n",
              "      <td>2174</td>\n",
              "      <td>0</td>\n",
              "      <td>40</td>\n",
              "      <td>United-States</td>\n",
              "      <td>&lt;=50K</td>\n",
              "    </tr>\n",
              "    <tr>\n",
              "      <th>1</th>\n",
              "      <td>50</td>\n",
              "      <td>Self-emp-not-inc</td>\n",
              "      <td>83311</td>\n",
              "      <td>Bachelors</td>\n",
              "      <td>13</td>\n",
              "      <td>Married-civ-spouse</td>\n",
              "      <td>Exec-managerial</td>\n",
              "      <td>Husband</td>\n",
              "      <td>White</td>\n",
              "      <td>Male</td>\n",
              "      <td>0</td>\n",
              "      <td>0</td>\n",
              "      <td>13</td>\n",
              "      <td>United-States</td>\n",
              "      <td>&lt;=50K</td>\n",
              "    </tr>\n",
              "    <tr>\n",
              "      <th>2</th>\n",
              "      <td>38</td>\n",
              "      <td>Private</td>\n",
              "      <td>215646</td>\n",
              "      <td>HS-grad</td>\n",
              "      <td>9</td>\n",
              "      <td>Divorced</td>\n",
              "      <td>Handlers-cleaners</td>\n",
              "      <td>Not-in-family</td>\n",
              "      <td>White</td>\n",
              "      <td>Male</td>\n",
              "      <td>0</td>\n",
              "      <td>0</td>\n",
              "      <td>40</td>\n",
              "      <td>United-States</td>\n",
              "      <td>&lt;=50K</td>\n",
              "    </tr>\n",
              "    <tr>\n",
              "      <th>3</th>\n",
              "      <td>53</td>\n",
              "      <td>Private</td>\n",
              "      <td>234721</td>\n",
              "      <td>11th</td>\n",
              "      <td>7</td>\n",
              "      <td>Married-civ-spouse</td>\n",
              "      <td>Handlers-cleaners</td>\n",
              "      <td>Husband</td>\n",
              "      <td>Black</td>\n",
              "      <td>Male</td>\n",
              "      <td>0</td>\n",
              "      <td>0</td>\n",
              "      <td>40</td>\n",
              "      <td>United-States</td>\n",
              "      <td>&lt;=50K</td>\n",
              "    </tr>\n",
              "    <tr>\n",
              "      <th>4</th>\n",
              "      <td>28</td>\n",
              "      <td>Private</td>\n",
              "      <td>338409</td>\n",
              "      <td>Bachelors</td>\n",
              "      <td>13</td>\n",
              "      <td>Married-civ-spouse</td>\n",
              "      <td>Prof-specialty</td>\n",
              "      <td>Wife</td>\n",
              "      <td>Black</td>\n",
              "      <td>Female</td>\n",
              "      <td>0</td>\n",
              "      <td>0</td>\n",
              "      <td>40</td>\n",
              "      <td>Cuba</td>\n",
              "      <td>&lt;=50K</td>\n",
              "    </tr>\n",
              "  </tbody>\n",
              "</table>\n",
              "</div>"
            ],
            "text/plain": [
              "   age         workclass  final-weight  ... hour-per-week  native-country income\n",
              "0   39         State-gov         77516  ...            40   United-States  <=50K\n",
              "1   50  Self-emp-not-inc         83311  ...            13   United-States  <=50K\n",
              "2   38           Private        215646  ...            40   United-States  <=50K\n",
              "3   53           Private        234721  ...            40   United-States  <=50K\n",
              "4   28           Private        338409  ...            40            Cuba  <=50K\n",
              "\n",
              "[5 rows x 15 columns]"
            ]
          },
          "metadata": {
            "tags": []
          },
          "execution_count": 396
        }
      ]
    },
    {
      "cell_type": "code",
      "metadata": {
        "id": "1ww1GJH-RlPF"
      },
      "source": [
        "previsores = base.iloc[:,0:14].values"
      ],
      "execution_count": 397,
      "outputs": []
    },
    {
      "cell_type": "code",
      "metadata": {
        "colab": {
          "base_uri": "https://localhost:8080/"
        },
        "id": "Yvi95GA5Rt6d",
        "outputId": "10d43b86-c550-44cf-f742-ac48e62ba4a0"
      },
      "source": [
        "previsores"
      ],
      "execution_count": 398,
      "outputs": [
        {
          "output_type": "execute_result",
          "data": {
            "text/plain": [
              "array([[39, 'State-gov', 77516, ..., 0, 40, 'United-States'],\n",
              "       [50, 'Self-emp-not-inc', 83311, ..., 0, 13, 'United-States'],\n",
              "       [38, 'Private', 215646, ..., 0, 40, 'United-States'],\n",
              "       ...,\n",
              "       [58, 'Private', 151910, ..., 0, 40, 'United-States'],\n",
              "       [22, 'Private', 201490, ..., 0, 20, 'United-States'],\n",
              "       [52, 'Self-emp-inc', 287927, ..., 0, 40, 'United-States']],\n",
              "      dtype=object)"
            ]
          },
          "metadata": {
            "tags": []
          },
          "execution_count": 398
        }
      ]
    },
    {
      "cell_type": "code",
      "metadata": {
        "id": "Ib9Nq4lBR5tt"
      },
      "source": [
        "saida = base.iloc[:,14].values"
      ],
      "execution_count": 399,
      "outputs": []
    },
    {
      "cell_type": "code",
      "metadata": {
        "colab": {
          "base_uri": "https://localhost:8080/"
        },
        "id": "jrM0GrvJSAD1",
        "outputId": "7e240e8b-e9d9-4d1a-f67f-09284d4c6285"
      },
      "source": [
        "saida"
      ],
      "execution_count": 400,
      "outputs": [
        {
          "output_type": "execute_result",
          "data": {
            "text/plain": [
              "array(['<=50K', '<=50K', '<=50K', ..., '<=50K', '<=50K', '>50K'],\n",
              "      dtype=object)"
            ]
          },
          "metadata": {
            "tags": []
          },
          "execution_count": 400
        }
      ]
    },
    {
      "cell_type": "markdown",
      "metadata": {
        "id": "GJVJ1dfzSKjc"
      },
      "source": [
        "Converter as variaveis categoricas em numericas\r\n"
      ]
    },
    {
      "cell_type": "code",
      "metadata": {
        "id": "599ONfJ-SKFt"
      },
      "source": [
        "from sklearn.preprocessing import LabelEncoder, OneHotEncoder\r\n",
        "from sklearn.compose import ColumnTransformer\r\n",
        "labelencoder_previsores = LabelEncoder()"
      ],
      "execution_count": 401,
      "outputs": []
    },
    {
      "cell_type": "code",
      "metadata": {
        "colab": {
          "base_uri": "https://localhost:8080/"
        },
        "id": "8CbI2Zq8SyXI",
        "outputId": "99d715fd-3ae7-4660-a097-3a329a75a7af"
      },
      "source": [
        "previsores"
      ],
      "execution_count": 402,
      "outputs": [
        {
          "output_type": "execute_result",
          "data": {
            "text/plain": [
              "array([[39, 'State-gov', 77516, ..., 0, 40, 'United-States'],\n",
              "       [50, 'Self-emp-not-inc', 83311, ..., 0, 13, 'United-States'],\n",
              "       [38, 'Private', 215646, ..., 0, 40, 'United-States'],\n",
              "       ...,\n",
              "       [58, 'Private', 151910, ..., 0, 40, 'United-States'],\n",
              "       [22, 'Private', 201490, ..., 0, 20, 'United-States'],\n",
              "       [52, 'Self-emp-inc', 287927, ..., 0, 40, 'United-States']],\n",
              "      dtype=object)"
            ]
          },
          "metadata": {
            "tags": []
          },
          "execution_count": 402
        }
      ]
    },
    {
      "cell_type": "code",
      "metadata": {
        "id": "Chww1wehULAl"
      },
      "source": [
        "onehotencorder = ColumnTransformer(transformers=[(\"OneHot\", OneHotEncoder(), [1,3,5,6,7,8,9,13])],remainder='passthrough')\r\n",
        "previsores = onehotencorder.fit_transform(previsores).toarray()"
      ],
      "execution_count": 403,
      "outputs": []
    },
    {
      "cell_type": "code",
      "metadata": {
        "colab": {
          "base_uri": "https://localhost:8080/"
        },
        "id": "s3s1SfxnUPZs",
        "outputId": "6d7c47f9-4977-4da3-9590-26c2ddbe169d"
      },
      "source": [
        "previsores"
      ],
      "execution_count": 404,
      "outputs": [
        {
          "output_type": "execute_result",
          "data": {
            "text/plain": [
              "array([[0.0000e+00, 0.0000e+00, 0.0000e+00, ..., 2.1740e+03, 0.0000e+00,\n",
              "        4.0000e+01],\n",
              "       [0.0000e+00, 0.0000e+00, 0.0000e+00, ..., 0.0000e+00, 0.0000e+00,\n",
              "        1.3000e+01],\n",
              "       [0.0000e+00, 0.0000e+00, 0.0000e+00, ..., 0.0000e+00, 0.0000e+00,\n",
              "        4.0000e+01],\n",
              "       ...,\n",
              "       [0.0000e+00, 0.0000e+00, 0.0000e+00, ..., 0.0000e+00, 0.0000e+00,\n",
              "        4.0000e+01],\n",
              "       [0.0000e+00, 0.0000e+00, 0.0000e+00, ..., 0.0000e+00, 0.0000e+00,\n",
              "        2.0000e+01],\n",
              "       [0.0000e+00, 0.0000e+00, 0.0000e+00, ..., 1.5024e+04, 0.0000e+00,\n",
              "        4.0000e+01]])"
            ]
          },
          "metadata": {
            "tags": []
          },
          "execution_count": 404
        }
      ]
    },
    {
      "cell_type": "code",
      "metadata": {
        "id": "d1Zijz1iU9zN"
      },
      "source": [
        "labelencorder_saida = LabelEncoder()\r\n",
        "saida = labelencorder_saida.fit_transform(saida)"
      ],
      "execution_count": 405,
      "outputs": []
    },
    {
      "cell_type": "code",
      "metadata": {
        "colab": {
          "base_uri": "https://localhost:8080/"
        },
        "id": "AvEXJyjlVDrM",
        "outputId": "af64af42-92cb-4933-f8fa-d13bc02e2dd7"
      },
      "source": [
        "saida"
      ],
      "execution_count": 406,
      "outputs": [
        {
          "output_type": "execute_result",
          "data": {
            "text/plain": [
              "array([0, 0, 0, ..., 0, 0, 1])"
            ]
          },
          "metadata": {
            "tags": []
          },
          "execution_count": 406
        }
      ]
    },
    {
      "cell_type": "code",
      "metadata": {
        "id": "3FcyYNfsVHAU"
      },
      "source": [
        "from sklearn.preprocessing import StandardScaler\r\n",
        "scaler = StandardScaler(with_mean=False)\r\n",
        "previsores = scaler.fit_transform(previsores)"
      ],
      "execution_count": 407,
      "outputs": []
    },
    {
      "cell_type": "code",
      "metadata": {
        "colab": {
          "base_uri": "https://localhost:8080/"
        },
        "id": "TY6GtaydVIV-",
        "outputId": "9622990f-1817-4924-fe1d-df59f368041f"
      },
      "source": [
        "previsores"
      ],
      "execution_count": 408,
      "outputs": [
        {
          "output_type": "execute_result",
          "data": {
            "text/plain": [
              "array([[0.        , 0.        , 0.        , ..., 0.29437338, 0.        ,\n",
              "        3.23959063],\n",
              "       [0.        , 0.        , 0.        , ..., 0.        , 0.        ,\n",
              "        1.05286695],\n",
              "       [0.        , 0.        , 0.        , ..., 0.        , 0.        ,\n",
              "        3.23959063],\n",
              "       ...,\n",
              "       [0.        , 0.        , 0.        , ..., 0.        , 0.        ,\n",
              "        3.23959063],\n",
              "       [0.        , 0.        , 0.        , ..., 0.        , 0.        ,\n",
              "        1.61979531],\n",
              "       [0.        , 0.        , 0.        , ..., 2.03434482, 0.        ,\n",
              "        3.23959063]])"
            ]
          },
          "metadata": {
            "tags": []
          },
          "execution_count": 408
        }
      ]
    },
    {
      "cell_type": "code",
      "metadata": {
        "id": "_JyajnHJVrPs"
      },
      "source": [
        "from sklearn.model_selection import train_test_split\r\n",
        "X_train, X_test, y_train, y_test = train_test_split(previsores, saida, test_size = 0.2, random_state = 5)"
      ],
      "execution_count": 409,
      "outputs": []
    },
    {
      "cell_type": "code",
      "metadata": {
        "colab": {
          "base_uri": "https://localhost:8080/"
        },
        "id": "Pesq__laVu7d",
        "outputId": "c725bbb4-dd9c-4a86-8678-315f7f3f2a1e"
      },
      "source": [
        "X_train.shape"
      ],
      "execution_count": 410,
      "outputs": [
        {
          "output_type": "execute_result",
          "data": {
            "text/plain": [
              "(26048, 108)"
            ]
          },
          "metadata": {
            "tags": []
          },
          "execution_count": 410
        }
      ]
    },
    {
      "cell_type": "code",
      "metadata": {
        "colab": {
          "base_uri": "https://localhost:8080/"
        },
        "id": "jYWidx-hVv50",
        "outputId": "2fbc665e-2130-416f-b7d8-907995d2b754"
      },
      "source": [
        "y_train.shape"
      ],
      "execution_count": 411,
      "outputs": [
        {
          "output_type": "execute_result",
          "data": {
            "text/plain": [
              "(26048,)"
            ]
          },
          "metadata": {
            "tags": []
          },
          "execution_count": 411
        }
      ]
    },
    {
      "cell_type": "code",
      "metadata": {
        "id": "ZGh2GxBZV0N0"
      },
      "source": [
        "classifier = tf.keras.models.Sequential()\r\n",
        "classifier.add(tf.keras.layers.Dense(units=100, activation='relu', input_shape=(108, )))\r\n",
        "classifier.add(tf.keras.layers.Dense(units=100, activation='relu'))\r\n",
        "classifier.add(tf.keras.layers.Dense(units=1, activation='sigmoid'))"
      ],
      "execution_count": 412,
      "outputs": []
    },
    {
      "cell_type": "code",
      "metadata": {
        "colab": {
          "base_uri": "https://localhost:8080/"
        },
        "id": "_7KPw5EXV7Mk",
        "outputId": "2da8a84f-39fa-4341-f33b-b15ba052916f"
      },
      "source": [
        "classifier.summary()"
      ],
      "execution_count": 413,
      "outputs": [
        {
          "output_type": "stream",
          "text": [
            "Model: \"sequential_6\"\n",
            "_________________________________________________________________\n",
            "Layer (type)                 Output Shape              Param #   \n",
            "=================================================================\n",
            "dense_18 (Dense)             (None, 100)               10900     \n",
            "_________________________________________________________________\n",
            "dense_19 (Dense)             (None, 100)               10100     \n",
            "_________________________________________________________________\n",
            "dense_20 (Dense)             (None, 1)                 101       \n",
            "=================================================================\n",
            "Total params: 21,101\n",
            "Trainable params: 21,101\n",
            "Non-trainable params: 0\n",
            "_________________________________________________________________\n"
          ],
          "name": "stdout"
        }
      ]
    },
    {
      "cell_type": "code",
      "metadata": {
        "id": "HR3NAiTvV9X2"
      },
      "source": [
        "classifier.compile(optimizer='Adam', loss='binary_crossentropy', metrics = ['accuracy'])"
      ],
      "execution_count": 414,
      "outputs": []
    },
    {
      "cell_type": "code",
      "metadata": {
        "colab": {
          "base_uri": "https://localhost:8080/"
        },
        "id": "mg3eBCIdV_w1",
        "outputId": "fe629816-17ac-4c96-f340-39565728eaee"
      },
      "source": [
        "epochs_hist = classifier.fit(X_train, y_train, epochs=200)"
      ],
      "execution_count": 415,
      "outputs": [
        {
          "output_type": "stream",
          "text": [
            "Epoch 1/200\n",
            "814/814 [==============================] - 2s 1ms/step - loss: 0.3981 - accuracy: 0.8194\n",
            "Epoch 2/200\n",
            "814/814 [==============================] - 1s 1ms/step - loss: 0.3212 - accuracy: 0.8523\n",
            "Epoch 3/200\n",
            "814/814 [==============================] - 1s 2ms/step - loss: 0.3168 - accuracy: 0.8495\n",
            "Epoch 4/200\n",
            "814/814 [==============================] - 1s 1ms/step - loss: 0.3069 - accuracy: 0.8568\n",
            "Epoch 5/200\n",
            "814/814 [==============================] - 1s 1ms/step - loss: 0.3030 - accuracy: 0.8558\n",
            "Epoch 6/200\n",
            "814/814 [==============================] - 1s 1ms/step - loss: 0.2993 - accuracy: 0.8585\n",
            "Epoch 7/200\n",
            "814/814 [==============================] - 1s 1ms/step - loss: 0.2903 - accuracy: 0.8637\n",
            "Epoch 8/200\n",
            "814/814 [==============================] - 1s 1ms/step - loss: 0.2847 - accuracy: 0.8683\n",
            "Epoch 9/200\n",
            "814/814 [==============================] - 1s 1ms/step - loss: 0.2771 - accuracy: 0.8721\n",
            "Epoch 10/200\n",
            "814/814 [==============================] - 1s 2ms/step - loss: 0.2720 - accuracy: 0.8745\n",
            "Epoch 11/200\n",
            "814/814 [==============================] - 1s 2ms/step - loss: 0.2728 - accuracy: 0.8689\n",
            "Epoch 12/200\n",
            "814/814 [==============================] - 1s 1ms/step - loss: 0.2676 - accuracy: 0.8747\n",
            "Epoch 13/200\n",
            "814/814 [==============================] - 1s 1ms/step - loss: 0.2606 - accuracy: 0.8766\n",
            "Epoch 14/200\n",
            "814/814 [==============================] - 1s 1ms/step - loss: 0.2562 - accuracy: 0.8807\n",
            "Epoch 15/200\n",
            "814/814 [==============================] - 1s 1ms/step - loss: 0.2497 - accuracy: 0.8860\n",
            "Epoch 16/200\n",
            "814/814 [==============================] - 1s 2ms/step - loss: 0.2513 - accuracy: 0.8826\n",
            "Epoch 17/200\n",
            "814/814 [==============================] - 1s 1ms/step - loss: 0.2425 - accuracy: 0.8872\n",
            "Epoch 18/200\n",
            "814/814 [==============================] - 1s 2ms/step - loss: 0.2412 - accuracy: 0.8857\n",
            "Epoch 19/200\n",
            "814/814 [==============================] - 1s 1ms/step - loss: 0.2398 - accuracy: 0.8900\n",
            "Epoch 20/200\n",
            "814/814 [==============================] - 1s 1ms/step - loss: 0.2307 - accuracy: 0.8920\n",
            "Epoch 21/200\n",
            "814/814 [==============================] - 1s 2ms/step - loss: 0.2269 - accuracy: 0.8933\n",
            "Epoch 22/200\n",
            "814/814 [==============================] - 1s 1ms/step - loss: 0.2263 - accuracy: 0.8933\n",
            "Epoch 23/200\n",
            "814/814 [==============================] - 1s 2ms/step - loss: 0.2230 - accuracy: 0.8946\n",
            "Epoch 24/200\n",
            "814/814 [==============================] - 1s 1ms/step - loss: 0.2172 - accuracy: 0.8991\n",
            "Epoch 25/200\n",
            "814/814 [==============================] - 1s 1ms/step - loss: 0.2191 - accuracy: 0.8976\n",
            "Epoch 26/200\n",
            "814/814 [==============================] - 1s 1ms/step - loss: 0.2150 - accuracy: 0.8981\n",
            "Epoch 27/200\n",
            "814/814 [==============================] - 1s 1ms/step - loss: 0.2105 - accuracy: 0.8994\n",
            "Epoch 28/200\n",
            "814/814 [==============================] - 1s 2ms/step - loss: 0.2095 - accuracy: 0.9024\n",
            "Epoch 29/200\n",
            "814/814 [==============================] - 1s 1ms/step - loss: 0.2078 - accuracy: 0.9035\n",
            "Epoch 30/200\n",
            "814/814 [==============================] - 1s 1ms/step - loss: 0.2068 - accuracy: 0.9040\n",
            "Epoch 31/200\n",
            "814/814 [==============================] - 1s 2ms/step - loss: 0.1996 - accuracy: 0.9070\n",
            "Epoch 32/200\n",
            "814/814 [==============================] - 1s 1ms/step - loss: 0.2015 - accuracy: 0.9065\n",
            "Epoch 33/200\n",
            "814/814 [==============================] - 1s 1ms/step - loss: 0.1943 - accuracy: 0.9089\n",
            "Epoch 34/200\n",
            "814/814 [==============================] - 1s 2ms/step - loss: 0.1966 - accuracy: 0.9070\n",
            "Epoch 35/200\n",
            "814/814 [==============================] - 1s 2ms/step - loss: 0.1961 - accuracy: 0.9098\n",
            "Epoch 36/200\n",
            "814/814 [==============================] - 1s 2ms/step - loss: 0.1949 - accuracy: 0.9087\n",
            "Epoch 37/200\n",
            "814/814 [==============================] - 1s 2ms/step - loss: 0.1935 - accuracy: 0.9107\n",
            "Epoch 38/200\n",
            "814/814 [==============================] - 1s 2ms/step - loss: 0.1879 - accuracy: 0.9125\n",
            "Epoch 39/200\n",
            "814/814 [==============================] - 1s 2ms/step - loss: 0.1875 - accuracy: 0.9128\n",
            "Epoch 40/200\n",
            "814/814 [==============================] - 1s 1ms/step - loss: 0.1864 - accuracy: 0.9136\n",
            "Epoch 41/200\n",
            "814/814 [==============================] - 1s 2ms/step - loss: 0.1900 - accuracy: 0.9092\n",
            "Epoch 42/200\n",
            "814/814 [==============================] - 1s 1ms/step - loss: 0.1894 - accuracy: 0.9114\n",
            "Epoch 43/200\n",
            "814/814 [==============================] - 1s 2ms/step - loss: 0.1781 - accuracy: 0.9151\n",
            "Epoch 44/200\n",
            "814/814 [==============================] - 1s 2ms/step - loss: 0.1764 - accuracy: 0.9171\n",
            "Epoch 45/200\n",
            "814/814 [==============================] - 1s 2ms/step - loss: 0.1824 - accuracy: 0.9166\n",
            "Epoch 46/200\n",
            "814/814 [==============================] - 1s 1ms/step - loss: 0.1798 - accuracy: 0.9154\n",
            "Epoch 47/200\n",
            "814/814 [==============================] - 1s 2ms/step - loss: 0.1753 - accuracy: 0.9158\n",
            "Epoch 48/200\n",
            "814/814 [==============================] - 1s 2ms/step - loss: 0.1727 - accuracy: 0.9189\n",
            "Epoch 49/200\n",
            "814/814 [==============================] - 1s 2ms/step - loss: 0.1768 - accuracy: 0.9165\n",
            "Epoch 50/200\n",
            "814/814 [==============================] - 1s 1ms/step - loss: 0.1754 - accuracy: 0.9181\n",
            "Epoch 51/200\n",
            "814/814 [==============================] - 1s 1ms/step - loss: 0.1672 - accuracy: 0.9212\n",
            "Epoch 52/200\n",
            "814/814 [==============================] - 1s 1ms/step - loss: 0.1681 - accuracy: 0.9207\n",
            "Epoch 53/200\n",
            "814/814 [==============================] - 1s 2ms/step - loss: 0.1665 - accuracy: 0.9221\n",
            "Epoch 54/200\n",
            "814/814 [==============================] - 1s 2ms/step - loss: 0.1678 - accuracy: 0.9229\n",
            "Epoch 55/200\n",
            "814/814 [==============================] - 1s 2ms/step - loss: 0.1680 - accuracy: 0.9232\n",
            "Epoch 56/200\n",
            "814/814 [==============================] - 1s 2ms/step - loss: 0.1658 - accuracy: 0.9232\n",
            "Epoch 57/200\n",
            "814/814 [==============================] - 1s 2ms/step - loss: 0.1625 - accuracy: 0.9237\n",
            "Epoch 58/200\n",
            "814/814 [==============================] - 1s 2ms/step - loss: 0.1640 - accuracy: 0.9249\n",
            "Epoch 59/200\n",
            "814/814 [==============================] - 1s 2ms/step - loss: 0.1592 - accuracy: 0.9238\n",
            "Epoch 60/200\n",
            "814/814 [==============================] - 1s 1ms/step - loss: 0.1601 - accuracy: 0.9267\n",
            "Epoch 61/200\n",
            "814/814 [==============================] - 1s 2ms/step - loss: 0.1570 - accuracy: 0.9262\n",
            "Epoch 62/200\n",
            "814/814 [==============================] - 1s 2ms/step - loss: 0.1580 - accuracy: 0.9252\n",
            "Epoch 63/200\n",
            "814/814 [==============================] - 1s 1ms/step - loss: 0.1560 - accuracy: 0.9245\n",
            "Epoch 64/200\n",
            "814/814 [==============================] - 1s 2ms/step - loss: 0.1544 - accuracy: 0.9248\n",
            "Epoch 65/200\n",
            "814/814 [==============================] - 1s 2ms/step - loss: 0.1567 - accuracy: 0.9255\n",
            "Epoch 66/200\n",
            "814/814 [==============================] - 1s 2ms/step - loss: 0.1525 - accuracy: 0.9290\n",
            "Epoch 67/200\n",
            "814/814 [==============================] - 1s 1ms/step - loss: 0.1554 - accuracy: 0.9275\n",
            "Epoch 68/200\n",
            "814/814 [==============================] - 1s 1ms/step - loss: 0.1494 - accuracy: 0.9297\n",
            "Epoch 69/200\n",
            "814/814 [==============================] - 1s 1ms/step - loss: 0.1539 - accuracy: 0.9274\n",
            "Epoch 70/200\n",
            "814/814 [==============================] - 1s 1ms/step - loss: 0.1547 - accuracy: 0.9279\n",
            "Epoch 71/200\n",
            "814/814 [==============================] - 1s 2ms/step - loss: 0.1484 - accuracy: 0.9310\n",
            "Epoch 72/200\n",
            "814/814 [==============================] - 1s 2ms/step - loss: 0.1487 - accuracy: 0.9313\n",
            "Epoch 73/200\n",
            "814/814 [==============================] - 1s 1ms/step - loss: 0.1501 - accuracy: 0.9296\n",
            "Epoch 74/200\n",
            "814/814 [==============================] - 1s 1ms/step - loss: 0.1461 - accuracy: 0.9348\n",
            "Epoch 75/200\n",
            "814/814 [==============================] - 1s 1ms/step - loss: 0.1512 - accuracy: 0.9301\n",
            "Epoch 76/200\n",
            "814/814 [==============================] - 1s 1ms/step - loss: 0.1502 - accuracy: 0.9304\n",
            "Epoch 77/200\n",
            "814/814 [==============================] - 1s 1ms/step - loss: 0.1457 - accuracy: 0.9324\n",
            "Epoch 78/200\n",
            "814/814 [==============================] - 1s 2ms/step - loss: 0.1440 - accuracy: 0.9309\n",
            "Epoch 79/200\n",
            "814/814 [==============================] - 1s 2ms/step - loss: 0.1436 - accuracy: 0.9347\n",
            "Epoch 80/200\n",
            "814/814 [==============================] - 1s 2ms/step - loss: 0.1461 - accuracy: 0.9330\n",
            "Epoch 81/200\n",
            "814/814 [==============================] - 1s 1ms/step - loss: 0.1431 - accuracy: 0.9358\n",
            "Epoch 82/200\n",
            "814/814 [==============================] - 1s 2ms/step - loss: 0.1430 - accuracy: 0.9327\n",
            "Epoch 83/200\n",
            "814/814 [==============================] - 1s 2ms/step - loss: 0.1402 - accuracy: 0.9353\n",
            "Epoch 84/200\n",
            "814/814 [==============================] - 1s 2ms/step - loss: 0.1398 - accuracy: 0.9363\n",
            "Epoch 85/200\n",
            "814/814 [==============================] - 1s 2ms/step - loss: 0.1398 - accuracy: 0.9353\n",
            "Epoch 86/200\n",
            "814/814 [==============================] - 1s 2ms/step - loss: 0.1383 - accuracy: 0.9372\n",
            "Epoch 87/200\n",
            "814/814 [==============================] - 1s 2ms/step - loss: 0.1429 - accuracy: 0.9346\n",
            "Epoch 88/200\n",
            "814/814 [==============================] - 1s 2ms/step - loss: 0.1421 - accuracy: 0.9333\n",
            "Epoch 89/200\n",
            "814/814 [==============================] - 1s 2ms/step - loss: 0.1333 - accuracy: 0.9404\n",
            "Epoch 90/200\n",
            "814/814 [==============================] - 1s 2ms/step - loss: 0.1399 - accuracy: 0.9338\n",
            "Epoch 91/200\n",
            "814/814 [==============================] - 1s 2ms/step - loss: 0.1354 - accuracy: 0.9361\n",
            "Epoch 92/200\n",
            "814/814 [==============================] - 1s 2ms/step - loss: 0.1348 - accuracy: 0.9373\n",
            "Epoch 93/200\n",
            "814/814 [==============================] - 1s 2ms/step - loss: 0.1316 - accuracy: 0.9405\n",
            "Epoch 94/200\n",
            "814/814 [==============================] - 1s 2ms/step - loss: 0.1357 - accuracy: 0.9371\n",
            "Epoch 95/200\n",
            "814/814 [==============================] - 1s 2ms/step - loss: 0.1353 - accuracy: 0.9368\n",
            "Epoch 96/200\n",
            "814/814 [==============================] - 1s 2ms/step - loss: 0.1331 - accuracy: 0.9378\n",
            "Epoch 97/200\n",
            "814/814 [==============================] - 1s 2ms/step - loss: 0.1338 - accuracy: 0.9384\n",
            "Epoch 98/200\n",
            "814/814 [==============================] - 1s 2ms/step - loss: 0.1277 - accuracy: 0.9417\n",
            "Epoch 99/200\n",
            "814/814 [==============================] - 1s 1ms/step - loss: 0.1300 - accuracy: 0.9392\n",
            "Epoch 100/200\n",
            "814/814 [==============================] - 1s 2ms/step - loss: 0.1310 - accuracy: 0.9367\n",
            "Epoch 101/200\n",
            "814/814 [==============================] - 1s 2ms/step - loss: 0.1329 - accuracy: 0.9387\n",
            "Epoch 102/200\n",
            "814/814 [==============================] - 1s 2ms/step - loss: 0.1299 - accuracy: 0.9402\n",
            "Epoch 103/200\n",
            "814/814 [==============================] - 1s 2ms/step - loss: 0.1296 - accuracy: 0.9393\n",
            "Epoch 104/200\n",
            "814/814 [==============================] - 1s 2ms/step - loss: 0.1253 - accuracy: 0.9405\n",
            "Epoch 105/200\n",
            "814/814 [==============================] - 1s 2ms/step - loss: 0.1246 - accuracy: 0.9421\n",
            "Epoch 106/200\n",
            "814/814 [==============================] - 1s 2ms/step - loss: 0.1302 - accuracy: 0.9394\n",
            "Epoch 107/200\n",
            "814/814 [==============================] - 1s 2ms/step - loss: 0.1279 - accuracy: 0.9398\n",
            "Epoch 108/200\n",
            "814/814 [==============================] - 1s 2ms/step - loss: 0.1270 - accuracy: 0.9415\n",
            "Epoch 109/200\n",
            "814/814 [==============================] - 1s 2ms/step - loss: 0.1271 - accuracy: 0.9408\n",
            "Epoch 110/200\n",
            "814/814 [==============================] - 1s 2ms/step - loss: 0.1245 - accuracy: 0.9415\n",
            "Epoch 111/200\n",
            "814/814 [==============================] - 1s 1ms/step - loss: 0.1274 - accuracy: 0.9411\n",
            "Epoch 112/200\n",
            "814/814 [==============================] - 1s 1ms/step - loss: 0.1266 - accuracy: 0.9419\n",
            "Epoch 113/200\n",
            "814/814 [==============================] - 1s 2ms/step - loss: 0.1263 - accuracy: 0.9417\n",
            "Epoch 114/200\n",
            "814/814 [==============================] - 1s 2ms/step - loss: 0.1225 - accuracy: 0.9426\n",
            "Epoch 115/200\n",
            "814/814 [==============================] - 1s 2ms/step - loss: 0.1251 - accuracy: 0.9417\n",
            "Epoch 116/200\n",
            "814/814 [==============================] - 1s 2ms/step - loss: 0.1197 - accuracy: 0.9442\n",
            "Epoch 117/200\n",
            "814/814 [==============================] - 1s 2ms/step - loss: 0.1236 - accuracy: 0.9410\n",
            "Epoch 118/200\n",
            "814/814 [==============================] - 1s 2ms/step - loss: 0.1196 - accuracy: 0.9445\n",
            "Epoch 119/200\n",
            "814/814 [==============================] - 1s 2ms/step - loss: 0.1249 - accuracy: 0.9424\n",
            "Epoch 120/200\n",
            "814/814 [==============================] - 1s 2ms/step - loss: 0.1227 - accuracy: 0.9408\n",
            "Epoch 121/200\n",
            "814/814 [==============================] - 1s 2ms/step - loss: 0.1239 - accuracy: 0.9428\n",
            "Epoch 122/200\n",
            "814/814 [==============================] - 1s 2ms/step - loss: 0.1216 - accuracy: 0.9423\n",
            "Epoch 123/200\n",
            "814/814 [==============================] - 1s 1ms/step - loss: 0.1197 - accuracy: 0.9449\n",
            "Epoch 124/200\n",
            "814/814 [==============================] - 1s 2ms/step - loss: 0.1167 - accuracy: 0.9458\n",
            "Epoch 125/200\n",
            "814/814 [==============================] - 1s 2ms/step - loss: 0.1223 - accuracy: 0.9427\n",
            "Epoch 126/200\n",
            "814/814 [==============================] - 1s 1ms/step - loss: 0.1221 - accuracy: 0.9423\n",
            "Epoch 127/200\n",
            "814/814 [==============================] - 1s 2ms/step - loss: 0.1201 - accuracy: 0.9430\n",
            "Epoch 128/200\n",
            "814/814 [==============================] - 1s 2ms/step - loss: 0.1239 - accuracy: 0.9416\n",
            "Epoch 129/200\n",
            "814/814 [==============================] - 1s 2ms/step - loss: 0.1224 - accuracy: 0.9442\n",
            "Epoch 130/200\n",
            "814/814 [==============================] - 1s 2ms/step - loss: 0.1196 - accuracy: 0.9435\n",
            "Epoch 131/200\n",
            "814/814 [==============================] - 1s 2ms/step - loss: 0.1132 - accuracy: 0.9478\n",
            "Epoch 132/200\n",
            "814/814 [==============================] - 1s 2ms/step - loss: 0.1200 - accuracy: 0.9451\n",
            "Epoch 133/200\n",
            "814/814 [==============================] - 1s 2ms/step - loss: 0.1213 - accuracy: 0.9434\n",
            "Epoch 134/200\n",
            "814/814 [==============================] - 1s 2ms/step - loss: 0.1179 - accuracy: 0.9448\n",
            "Epoch 135/200\n",
            "814/814 [==============================] - 1s 2ms/step - loss: 0.1164 - accuracy: 0.9453\n",
            "Epoch 136/200\n",
            "814/814 [==============================] - 1s 2ms/step - loss: 0.1192 - accuracy: 0.9434\n",
            "Epoch 137/200\n",
            "814/814 [==============================] - 1s 2ms/step - loss: 0.1188 - accuracy: 0.9441\n",
            "Epoch 138/200\n",
            "814/814 [==============================] - 1s 2ms/step - loss: 0.1179 - accuracy: 0.9422\n",
            "Epoch 139/200\n",
            "814/814 [==============================] - 1s 2ms/step - loss: 0.1199 - accuracy: 0.9436\n",
            "Epoch 140/200\n",
            "814/814 [==============================] - 1s 2ms/step - loss: 0.1080 - accuracy: 0.9487\n",
            "Epoch 141/200\n",
            "814/814 [==============================] - 1s 2ms/step - loss: 0.1197 - accuracy: 0.9444\n",
            "Epoch 142/200\n",
            "814/814 [==============================] - 1s 2ms/step - loss: 0.1148 - accuracy: 0.9474\n",
            "Epoch 143/200\n",
            "814/814 [==============================] - 2s 2ms/step - loss: 0.1121 - accuracy: 0.9477\n",
            "Epoch 144/200\n",
            "814/814 [==============================] - 1s 2ms/step - loss: 0.1149 - accuracy: 0.9465\n",
            "Epoch 145/200\n",
            "814/814 [==============================] - 2s 2ms/step - loss: 0.1092 - accuracy: 0.9505\n",
            "Epoch 146/200\n",
            "814/814 [==============================] - 1s 2ms/step - loss: 0.1109 - accuracy: 0.9486\n",
            "Epoch 147/200\n",
            "814/814 [==============================] - 1s 2ms/step - loss: 0.1142 - accuracy: 0.9473\n",
            "Epoch 148/200\n",
            "814/814 [==============================] - 1s 2ms/step - loss: 0.1150 - accuracy: 0.9467\n",
            "Epoch 149/200\n",
            "814/814 [==============================] - 1s 2ms/step - loss: 0.1122 - accuracy: 0.9469\n",
            "Epoch 150/200\n",
            "814/814 [==============================] - 1s 2ms/step - loss: 0.1143 - accuracy: 0.9474\n",
            "Epoch 151/200\n",
            "814/814 [==============================] - 1s 2ms/step - loss: 0.1106 - accuracy: 0.9472\n",
            "Epoch 152/200\n",
            "814/814 [==============================] - 1s 2ms/step - loss: 0.1110 - accuracy: 0.9493\n",
            "Epoch 153/200\n",
            "814/814 [==============================] - 1s 2ms/step - loss: 0.1134 - accuracy: 0.9471\n",
            "Epoch 154/200\n",
            "814/814 [==============================] - 1s 2ms/step - loss: 0.1122 - accuracy: 0.9481\n",
            "Epoch 155/200\n",
            "814/814 [==============================] - 1s 2ms/step - loss: 0.1099 - accuracy: 0.9498\n",
            "Epoch 156/200\n",
            "814/814 [==============================] - 1s 2ms/step - loss: 0.1143 - accuracy: 0.9486\n",
            "Epoch 157/200\n",
            "814/814 [==============================] - 1s 2ms/step - loss: 0.1110 - accuracy: 0.9485\n",
            "Epoch 158/200\n",
            "814/814 [==============================] - 1s 1ms/step - loss: 0.1098 - accuracy: 0.9494\n",
            "Epoch 159/200\n",
            "814/814 [==============================] - 1s 2ms/step - loss: 0.1114 - accuracy: 0.9485\n",
            "Epoch 160/200\n",
            "814/814 [==============================] - 1s 2ms/step - loss: 0.1089 - accuracy: 0.9503\n",
            "Epoch 161/200\n",
            "814/814 [==============================] - 1s 2ms/step - loss: 0.1078 - accuracy: 0.9504\n",
            "Epoch 162/200\n",
            "814/814 [==============================] - 1s 2ms/step - loss: 0.1114 - accuracy: 0.9475\n",
            "Epoch 163/200\n",
            "814/814 [==============================] - 1s 2ms/step - loss: 0.1105 - accuracy: 0.9466\n",
            "Epoch 164/200\n",
            "814/814 [==============================] - 1s 2ms/step - loss: 0.1097 - accuracy: 0.9482\n",
            "Epoch 165/200\n",
            "814/814 [==============================] - 1s 2ms/step - loss: 0.1093 - accuracy: 0.9486\n",
            "Epoch 166/200\n",
            "814/814 [==============================] - 1s 2ms/step - loss: 0.1068 - accuracy: 0.9496\n",
            "Epoch 167/200\n",
            "814/814 [==============================] - 1s 2ms/step - loss: 0.1095 - accuracy: 0.9501\n",
            "Epoch 168/200\n",
            "814/814 [==============================] - 1s 2ms/step - loss: 0.1074 - accuracy: 0.9490\n",
            "Epoch 169/200\n",
            "814/814 [==============================] - 1s 2ms/step - loss: 0.1051 - accuracy: 0.9514\n",
            "Epoch 170/200\n",
            "814/814 [==============================] - 1s 2ms/step - loss: 0.1081 - accuracy: 0.9478\n",
            "Epoch 171/200\n",
            "814/814 [==============================] - 1s 2ms/step - loss: 0.1071 - accuracy: 0.9491\n",
            "Epoch 172/200\n",
            "814/814 [==============================] - 1s 2ms/step - loss: 0.1087 - accuracy: 0.9489\n",
            "Epoch 173/200\n",
            "814/814 [==============================] - 1s 2ms/step - loss: 0.1083 - accuracy: 0.9506\n",
            "Epoch 174/200\n",
            "814/814 [==============================] - 1s 2ms/step - loss: 0.1027 - accuracy: 0.9523\n",
            "Epoch 175/200\n",
            "814/814 [==============================] - 1s 2ms/step - loss: 0.1040 - accuracy: 0.9522\n",
            "Epoch 176/200\n",
            "814/814 [==============================] - 1s 2ms/step - loss: 0.1075 - accuracy: 0.9513\n",
            "Epoch 177/200\n",
            "814/814 [==============================] - 2s 2ms/step - loss: 0.1072 - accuracy: 0.9511\n",
            "Epoch 178/200\n",
            "814/814 [==============================] - 2s 2ms/step - loss: 0.1035 - accuracy: 0.9527\n",
            "Epoch 179/200\n",
            "814/814 [==============================] - 1s 2ms/step - loss: 0.1051 - accuracy: 0.9497\n",
            "Epoch 180/200\n",
            "814/814 [==============================] - 1s 2ms/step - loss: 0.1037 - accuracy: 0.9519\n",
            "Epoch 181/200\n",
            "814/814 [==============================] - 1s 2ms/step - loss: 0.1016 - accuracy: 0.9531\n",
            "Epoch 182/200\n",
            "814/814 [==============================] - 1s 2ms/step - loss: 0.1078 - accuracy: 0.9472\n",
            "Epoch 183/200\n",
            "814/814 [==============================] - 1s 2ms/step - loss: 0.0989 - accuracy: 0.9547\n",
            "Epoch 184/200\n",
            "814/814 [==============================] - 1s 2ms/step - loss: 0.1024 - accuracy: 0.9512\n",
            "Epoch 185/200\n",
            "814/814 [==============================] - 1s 2ms/step - loss: 0.1025 - accuracy: 0.9515\n",
            "Epoch 186/200\n",
            "814/814 [==============================] - 1s 2ms/step - loss: 0.1033 - accuracy: 0.9521\n",
            "Epoch 187/200\n",
            "814/814 [==============================] - 2s 2ms/step - loss: 0.0989 - accuracy: 0.9538\n",
            "Epoch 188/200\n",
            "814/814 [==============================] - 1s 2ms/step - loss: 0.1014 - accuracy: 0.9528\n",
            "Epoch 189/200\n",
            "814/814 [==============================] - 1s 2ms/step - loss: 0.1020 - accuracy: 0.9535\n",
            "Epoch 190/200\n",
            "814/814 [==============================] - 1s 2ms/step - loss: 0.1092 - accuracy: 0.9501\n",
            "Epoch 191/200\n",
            "814/814 [==============================] - 1s 2ms/step - loss: 0.1036 - accuracy: 0.9528\n",
            "Epoch 192/200\n",
            "814/814 [==============================] - 1s 2ms/step - loss: 0.1039 - accuracy: 0.9502\n",
            "Epoch 193/200\n",
            "814/814 [==============================] - 1s 2ms/step - loss: 0.0998 - accuracy: 0.9533\n",
            "Epoch 194/200\n",
            "814/814 [==============================] - 1s 2ms/step - loss: 0.0999 - accuracy: 0.9528\n",
            "Epoch 195/200\n",
            "814/814 [==============================] - 1s 2ms/step - loss: 0.1020 - accuracy: 0.9533\n",
            "Epoch 196/200\n",
            "814/814 [==============================] - 1s 2ms/step - loss: 0.1045 - accuracy: 0.9493\n",
            "Epoch 197/200\n",
            "814/814 [==============================] - 1s 2ms/step - loss: 0.1005 - accuracy: 0.9536\n",
            "Epoch 198/200\n",
            "814/814 [==============================] - 1s 2ms/step - loss: 0.1001 - accuracy: 0.9529\n",
            "Epoch 199/200\n",
            "814/814 [==============================] - 1s 2ms/step - loss: 0.1018 - accuracy: 0.9526\n",
            "Epoch 200/200\n",
            "814/814 [==============================] - 1s 2ms/step - loss: 0.0985 - accuracy: 0.9542\n"
          ],
          "name": "stdout"
        }
      ]
    },
    {
      "cell_type": "code",
      "metadata": {
        "id": "piku5E0WXil1"
      },
      "source": [
        "entrada = [[39,'State-gov',77516,'Bachelors',13,'Never-married','Adm-clerical','Not-in-family','White','Male',2174,0,40,'United-States']]"
      ],
      "execution_count": 418,
      "outputs": []
    },
    {
      "cell_type": "code",
      "metadata": {
        "id": "ltZJwPkybPwz"
      },
      "source": [
        "entradaencoded = onehotencorder.transform(entrada)"
      ],
      "execution_count": 419,
      "outputs": []
    },
    {
      "cell_type": "code",
      "metadata": {
        "id": "upM4TIMNb2uN"
      },
      "source": [
        "entradaescalonada = scaler.transform(entradaencoded)"
      ],
      "execution_count": 420,
      "outputs": []
    },
    {
      "cell_type": "code",
      "metadata": {
        "id": "I82I3Y75fqUf"
      },
      "source": [
        "previsao = classifier.predict(entradaescalonada)"
      ],
      "execution_count": 421,
      "outputs": []
    },
    {
      "cell_type": "code",
      "metadata": {
        "colab": {
          "base_uri": "https://localhost:8080/"
        },
        "id": "FxOYzjpCe-RU",
        "outputId": "ba42b53c-7a10-4e70-8fd8-c71fd52dd669"
      },
      "source": [
        "labelencorder_saida.inverse_transform(previsao[0].astype(int))"
      ],
      "execution_count": 422,
      "outputs": [
        {
          "output_type": "execute_result",
          "data": {
            "text/plain": [
              "array(['<=50K'], dtype=object)"
            ]
          },
          "metadata": {
            "tags": []
          },
          "execution_count": 422
        }
      ]
    },
    {
      "cell_type": "code",
      "metadata": {
        "colab": {
          "base_uri": "https://localhost:8080/",
          "height": 589
        },
        "id": "ulmwSKvnhNCk",
        "outputId": "7ca067cc-53b8-448f-fbcf-29c998fb3490"
      },
      "source": [
        "base.loc[base['income'] == '>50K']"
      ],
      "execution_count": 424,
      "outputs": [
        {
          "output_type": "execute_result",
          "data": {
            "text/html": [
              "<div>\n",
              "<style scoped>\n",
              "    .dataframe tbody tr th:only-of-type {\n",
              "        vertical-align: middle;\n",
              "    }\n",
              "\n",
              "    .dataframe tbody tr th {\n",
              "        vertical-align: top;\n",
              "    }\n",
              "\n",
              "    .dataframe thead th {\n",
              "        text-align: right;\n",
              "    }\n",
              "</style>\n",
              "<table border=\"1\" class=\"dataframe\">\n",
              "  <thead>\n",
              "    <tr style=\"text-align: right;\">\n",
              "      <th></th>\n",
              "      <th>age</th>\n",
              "      <th>workclass</th>\n",
              "      <th>final-weight</th>\n",
              "      <th>education</th>\n",
              "      <th>education-num</th>\n",
              "      <th>marital-status</th>\n",
              "      <th>occupation</th>\n",
              "      <th>relationship</th>\n",
              "      <th>race</th>\n",
              "      <th>sex</th>\n",
              "      <th>capital-gain</th>\n",
              "      <th>capital-loos</th>\n",
              "      <th>hour-per-week</th>\n",
              "      <th>native-country</th>\n",
              "      <th>income</th>\n",
              "    </tr>\n",
              "  </thead>\n",
              "  <tbody>\n",
              "    <tr>\n",
              "      <th>7</th>\n",
              "      <td>52</td>\n",
              "      <td>Self-emp-not-inc</td>\n",
              "      <td>209642</td>\n",
              "      <td>HS-grad</td>\n",
              "      <td>9</td>\n",
              "      <td>Married-civ-spouse</td>\n",
              "      <td>Exec-managerial</td>\n",
              "      <td>Husband</td>\n",
              "      <td>White</td>\n",
              "      <td>Male</td>\n",
              "      <td>0</td>\n",
              "      <td>0</td>\n",
              "      <td>45</td>\n",
              "      <td>United-States</td>\n",
              "      <td>&gt;50K</td>\n",
              "    </tr>\n",
              "    <tr>\n",
              "      <th>8</th>\n",
              "      <td>31</td>\n",
              "      <td>Private</td>\n",
              "      <td>45781</td>\n",
              "      <td>Masters</td>\n",
              "      <td>14</td>\n",
              "      <td>Never-married</td>\n",
              "      <td>Prof-specialty</td>\n",
              "      <td>Not-in-family</td>\n",
              "      <td>White</td>\n",
              "      <td>Female</td>\n",
              "      <td>14084</td>\n",
              "      <td>0</td>\n",
              "      <td>50</td>\n",
              "      <td>United-States</td>\n",
              "      <td>&gt;50K</td>\n",
              "    </tr>\n",
              "    <tr>\n",
              "      <th>9</th>\n",
              "      <td>42</td>\n",
              "      <td>Private</td>\n",
              "      <td>159449</td>\n",
              "      <td>Bachelors</td>\n",
              "      <td>13</td>\n",
              "      <td>Married-civ-spouse</td>\n",
              "      <td>Exec-managerial</td>\n",
              "      <td>Husband</td>\n",
              "      <td>White</td>\n",
              "      <td>Male</td>\n",
              "      <td>5178</td>\n",
              "      <td>0</td>\n",
              "      <td>40</td>\n",
              "      <td>United-States</td>\n",
              "      <td>&gt;50K</td>\n",
              "    </tr>\n",
              "    <tr>\n",
              "      <th>10</th>\n",
              "      <td>37</td>\n",
              "      <td>Private</td>\n",
              "      <td>280464</td>\n",
              "      <td>Some-college</td>\n",
              "      <td>10</td>\n",
              "      <td>Married-civ-spouse</td>\n",
              "      <td>Exec-managerial</td>\n",
              "      <td>Husband</td>\n",
              "      <td>Black</td>\n",
              "      <td>Male</td>\n",
              "      <td>0</td>\n",
              "      <td>0</td>\n",
              "      <td>80</td>\n",
              "      <td>United-States</td>\n",
              "      <td>&gt;50K</td>\n",
              "    </tr>\n",
              "    <tr>\n",
              "      <th>11</th>\n",
              "      <td>30</td>\n",
              "      <td>State-gov</td>\n",
              "      <td>141297</td>\n",
              "      <td>Bachelors</td>\n",
              "      <td>13</td>\n",
              "      <td>Married-civ-spouse</td>\n",
              "      <td>Prof-specialty</td>\n",
              "      <td>Husband</td>\n",
              "      <td>Asian-Pac-Islander</td>\n",
              "      <td>Male</td>\n",
              "      <td>0</td>\n",
              "      <td>0</td>\n",
              "      <td>40</td>\n",
              "      <td>India</td>\n",
              "      <td>&gt;50K</td>\n",
              "    </tr>\n",
              "    <tr>\n",
              "      <th>...</th>\n",
              "      <td>...</td>\n",
              "      <td>...</td>\n",
              "      <td>...</td>\n",
              "      <td>...</td>\n",
              "      <td>...</td>\n",
              "      <td>...</td>\n",
              "      <td>...</td>\n",
              "      <td>...</td>\n",
              "      <td>...</td>\n",
              "      <td>...</td>\n",
              "      <td>...</td>\n",
              "      <td>...</td>\n",
              "      <td>...</td>\n",
              "      <td>...</td>\n",
              "      <td>...</td>\n",
              "    </tr>\n",
              "    <tr>\n",
              "      <th>32539</th>\n",
              "      <td>71</td>\n",
              "      <td>?</td>\n",
              "      <td>287372</td>\n",
              "      <td>Doctorate</td>\n",
              "      <td>16</td>\n",
              "      <td>Married-civ-spouse</td>\n",
              "      <td>?</td>\n",
              "      <td>Husband</td>\n",
              "      <td>White</td>\n",
              "      <td>Male</td>\n",
              "      <td>0</td>\n",
              "      <td>0</td>\n",
              "      <td>10</td>\n",
              "      <td>United-States</td>\n",
              "      <td>&gt;50K</td>\n",
              "    </tr>\n",
              "    <tr>\n",
              "      <th>32545</th>\n",
              "      <td>39</td>\n",
              "      <td>Local-gov</td>\n",
              "      <td>111499</td>\n",
              "      <td>Assoc-acdm</td>\n",
              "      <td>12</td>\n",
              "      <td>Married-civ-spouse</td>\n",
              "      <td>Adm-clerical</td>\n",
              "      <td>Wife</td>\n",
              "      <td>White</td>\n",
              "      <td>Female</td>\n",
              "      <td>0</td>\n",
              "      <td>0</td>\n",
              "      <td>20</td>\n",
              "      <td>United-States</td>\n",
              "      <td>&gt;50K</td>\n",
              "    </tr>\n",
              "    <tr>\n",
              "      <th>32554</th>\n",
              "      <td>53</td>\n",
              "      <td>Private</td>\n",
              "      <td>321865</td>\n",
              "      <td>Masters</td>\n",
              "      <td>14</td>\n",
              "      <td>Married-civ-spouse</td>\n",
              "      <td>Exec-managerial</td>\n",
              "      <td>Husband</td>\n",
              "      <td>White</td>\n",
              "      <td>Male</td>\n",
              "      <td>0</td>\n",
              "      <td>0</td>\n",
              "      <td>40</td>\n",
              "      <td>United-States</td>\n",
              "      <td>&gt;50K</td>\n",
              "    </tr>\n",
              "    <tr>\n",
              "      <th>32557</th>\n",
              "      <td>40</td>\n",
              "      <td>Private</td>\n",
              "      <td>154374</td>\n",
              "      <td>HS-grad</td>\n",
              "      <td>9</td>\n",
              "      <td>Married-civ-spouse</td>\n",
              "      <td>Machine-op-inspct</td>\n",
              "      <td>Husband</td>\n",
              "      <td>White</td>\n",
              "      <td>Male</td>\n",
              "      <td>0</td>\n",
              "      <td>0</td>\n",
              "      <td>40</td>\n",
              "      <td>United-States</td>\n",
              "      <td>&gt;50K</td>\n",
              "    </tr>\n",
              "    <tr>\n",
              "      <th>32560</th>\n",
              "      <td>52</td>\n",
              "      <td>Self-emp-inc</td>\n",
              "      <td>287927</td>\n",
              "      <td>HS-grad</td>\n",
              "      <td>9</td>\n",
              "      <td>Married-civ-spouse</td>\n",
              "      <td>Exec-managerial</td>\n",
              "      <td>Wife</td>\n",
              "      <td>White</td>\n",
              "      <td>Female</td>\n",
              "      <td>15024</td>\n",
              "      <td>0</td>\n",
              "      <td>40</td>\n",
              "      <td>United-States</td>\n",
              "      <td>&gt;50K</td>\n",
              "    </tr>\n",
              "  </tbody>\n",
              "</table>\n",
              "<p>7841 rows × 15 columns</p>\n",
              "</div>"
            ],
            "text/plain": [
              "       age         workclass  final-weight  ... hour-per-week  native-country income\n",
              "7       52  Self-emp-not-inc        209642  ...            45   United-States   >50K\n",
              "8       31           Private         45781  ...            50   United-States   >50K\n",
              "9       42           Private        159449  ...            40   United-States   >50K\n",
              "10      37           Private        280464  ...            80   United-States   >50K\n",
              "11      30         State-gov        141297  ...            40           India   >50K\n",
              "...    ...               ...           ...  ...           ...             ...    ...\n",
              "32539   71                 ?        287372  ...            10   United-States   >50K\n",
              "32545   39         Local-gov        111499  ...            20   United-States   >50K\n",
              "32554   53           Private        321865  ...            40   United-States   >50K\n",
              "32557   40           Private        154374  ...            40   United-States   >50K\n",
              "32560   52      Self-emp-inc        287927  ...            40   United-States   >50K\n",
              "\n",
              "[7841 rows x 15 columns]"
            ]
          },
          "metadata": {
            "tags": []
          },
          "execution_count": 424
        }
      ]
    },
    {
      "cell_type": "code",
      "metadata": {
        "id": "ZrjgA0EjipQ0"
      },
      "source": [
        "entrada = base.loc[base['income'] == '>50K']"
      ],
      "execution_count": 425,
      "outputs": []
    },
    {
      "cell_type": "code",
      "metadata": {
        "id": "ekpQMlrmllD0"
      },
      "source": [
        "entrada = base.loc[base['income'] == '>50K'].iloc[1:2,0:14]"
      ],
      "execution_count": 426,
      "outputs": []
    },
    {
      "cell_type": "code",
      "metadata": {
        "colab": {
          "base_uri": "https://localhost:8080/",
          "height": 80
        },
        "id": "kpB8evlqmCKF",
        "outputId": "7d44771f-47cd-4a72-fede-93a7d170bdd5"
      },
      "source": [
        "entrada"
      ],
      "execution_count": 427,
      "outputs": [
        {
          "output_type": "execute_result",
          "data": {
            "text/html": [
              "<div>\n",
              "<style scoped>\n",
              "    .dataframe tbody tr th:only-of-type {\n",
              "        vertical-align: middle;\n",
              "    }\n",
              "\n",
              "    .dataframe tbody tr th {\n",
              "        vertical-align: top;\n",
              "    }\n",
              "\n",
              "    .dataframe thead th {\n",
              "        text-align: right;\n",
              "    }\n",
              "</style>\n",
              "<table border=\"1\" class=\"dataframe\">\n",
              "  <thead>\n",
              "    <tr style=\"text-align: right;\">\n",
              "      <th></th>\n",
              "      <th>age</th>\n",
              "      <th>workclass</th>\n",
              "      <th>final-weight</th>\n",
              "      <th>education</th>\n",
              "      <th>education-num</th>\n",
              "      <th>marital-status</th>\n",
              "      <th>occupation</th>\n",
              "      <th>relationship</th>\n",
              "      <th>race</th>\n",
              "      <th>sex</th>\n",
              "      <th>capital-gain</th>\n",
              "      <th>capital-loos</th>\n",
              "      <th>hour-per-week</th>\n",
              "      <th>native-country</th>\n",
              "    </tr>\n",
              "  </thead>\n",
              "  <tbody>\n",
              "    <tr>\n",
              "      <th>8</th>\n",
              "      <td>31</td>\n",
              "      <td>Private</td>\n",
              "      <td>45781</td>\n",
              "      <td>Masters</td>\n",
              "      <td>14</td>\n",
              "      <td>Never-married</td>\n",
              "      <td>Prof-specialty</td>\n",
              "      <td>Not-in-family</td>\n",
              "      <td>White</td>\n",
              "      <td>Female</td>\n",
              "      <td>14084</td>\n",
              "      <td>0</td>\n",
              "      <td>50</td>\n",
              "      <td>United-States</td>\n",
              "    </tr>\n",
              "  </tbody>\n",
              "</table>\n",
              "</div>"
            ],
            "text/plain": [
              "   age workclass  final-weight  ... capital-loos  hour-per-week native-country\n",
              "8   31   Private         45781  ...            0             50  United-States\n",
              "\n",
              "[1 rows x 14 columns]"
            ]
          },
          "metadata": {
            "tags": []
          },
          "execution_count": 427
        }
      ]
    },
    {
      "cell_type": "code",
      "metadata": {
        "id": "jliIIBASjCOM"
      },
      "source": [
        "entradaencoded = onehotencorder.transform(entrada)"
      ],
      "execution_count": 428,
      "outputs": []
    },
    {
      "cell_type": "code",
      "metadata": {
        "id": "jtcaxzlRjD40"
      },
      "source": [
        "entradaescalonada = scaler.transform(entradaencoded)"
      ],
      "execution_count": 429,
      "outputs": []
    },
    {
      "cell_type": "code",
      "metadata": {
        "colab": {
          "base_uri": "https://localhost:8080/"
        },
        "id": "0dXJgPnqjF21",
        "outputId": "b44b50cf-c0a2-4c85-9924-06091340bff8"
      },
      "source": [
        "previsao = classifier.predict(entradaescalonada)\r\n",
        "previsao"
      ],
      "execution_count": 430,
      "outputs": [
        {
          "output_type": "execute_result",
          "data": {
            "text/plain": [
              "array([[1.]], dtype=float32)"
            ]
          },
          "metadata": {
            "tags": []
          },
          "execution_count": 430
        }
      ]
    },
    {
      "cell_type": "code",
      "metadata": {
        "colab": {
          "base_uri": "https://localhost:8080/",
          "height": 35
        },
        "id": "YsC8HrlNjK_z",
        "outputId": "10e19fa6-a921-4af1-de93-9e44b8bdcf3c"
      },
      "source": [
        "labelencorder_saida.inverse_transform(previsao[0].astype(int))[0]"
      ],
      "execution_count": 431,
      "outputs": [
        {
          "output_type": "execute_result",
          "data": {
            "application/vnd.google.colaboratory.intrinsic+json": {
              "type": "string"
            },
            "text/plain": [
              "'>50K'"
            ]
          },
          "metadata": {
            "tags": []
          },
          "execution_count": 431
        }
      ]
    },
    {
      "cell_type": "markdown",
      "metadata": {
        "id": "Wc2Q8xNyqrBJ"
      },
      "source": [
        "Salvar Modelo e Serializar os Encoders\r\n"
      ]
    },
    {
      "cell_type": "code",
      "metadata": {
        "id": "M4nIPNxRmTDL"
      },
      "source": [
        "classifier.save('modelosalvo.h5')"
      ],
      "execution_count": 432,
      "outputs": []
    },
    {
      "cell_type": "code",
      "metadata": {
        "id": "fbjC5Ko3mVHD"
      },
      "source": [
        "novo_modelo = tf.keras.models.load_model('modelosalvo.h5')"
      ],
      "execution_count": 433,
      "outputs": []
    },
    {
      "cell_type": "code",
      "metadata": {
        "colab": {
          "base_uri": "https://localhost:8080/"
        },
        "id": "LmUt_u_omXG7",
        "outputId": "f8aec25d-f0d7-4b71-b9af-7523cfae6da8"
      },
      "source": [
        "novo_modelo.summary()"
      ],
      "execution_count": 434,
      "outputs": [
        {
          "output_type": "stream",
          "text": [
            "Model: \"sequential_6\"\n",
            "_________________________________________________________________\n",
            "Layer (type)                 Output Shape              Param #   \n",
            "=================================================================\n",
            "dense_18 (Dense)             (None, 100)               10900     \n",
            "_________________________________________________________________\n",
            "dense_19 (Dense)             (None, 100)               10100     \n",
            "_________________________________________________________________\n",
            "dense_20 (Dense)             (None, 1)                 101       \n",
            "=================================================================\n",
            "Total params: 21,101\n",
            "Trainable params: 21,101\n",
            "Non-trainable params: 0\n",
            "_________________________________________________________________\n"
          ],
          "name": "stdout"
        }
      ]
    },
    {
      "cell_type": "code",
      "metadata": {
        "colab": {
          "base_uri": "https://localhost:8080/"
        },
        "id": "j5r24O-fmZNk",
        "outputId": "37549962-62a7-4546-b28f-a8ce752f0fd2"
      },
      "source": [
        "loss, acc = novo_modelo.evaluate(previsores, saida, verbose=2)\r\n",
        "print('Modelo Restaurado, Precisão: {:5.2f}%'.format(100 * acc))"
      ],
      "execution_count": 435,
      "outputs": [
        {
          "output_type": "stream",
          "text": [
            "1018/1018 - 1s - loss: 0.4395 - accuracy: 0.9278\n",
            "Modelo Restaurado, Precisão: 92.78%\n"
          ],
          "name": "stdout"
        }
      ]
    },
    {
      "cell_type": "code",
      "metadata": {
        "colab": {
          "base_uri": "https://localhost:8080/"
        },
        "id": "9K6B3bkRqwIW",
        "outputId": "d4a4182d-2954-49cd-a761-a144ce62d697"
      },
      "source": [
        "from joblib import dump, load\r\n",
        "dump(onehotencorder, 'dicionario.joblib')"
      ],
      "execution_count": 436,
      "outputs": [
        {
          "output_type": "execute_result",
          "data": {
            "text/plain": [
              "['dicionario.joblib']"
            ]
          },
          "metadata": {
            "tags": []
          },
          "execution_count": 436
        }
      ]
    },
    {
      "cell_type": "code",
      "metadata": {
        "id": "l8ZQDFBQtzD6"
      },
      "source": [
        "onehotencodernovo = load('dicionario.joblib')"
      ],
      "execution_count": 443,
      "outputs": []
    },
    {
      "cell_type": "code",
      "metadata": {
        "colab": {
          "base_uri": "https://localhost:8080/"
        },
        "id": "AIah43lwt4MZ",
        "outputId": "2d57a31f-b613-49c8-d090-385c19fb3dfb"
      },
      "source": [
        "onehotencodernovo"
      ],
      "execution_count": 444,
      "outputs": [
        {
          "output_type": "execute_result",
          "data": {
            "text/plain": [
              "ColumnTransformer(n_jobs=None, remainder='passthrough', sparse_threshold=0.3,\n",
              "                  transformer_weights=None,\n",
              "                  transformers=[('OneHot',\n",
              "                                 OneHotEncoder(categories='auto', drop=None,\n",
              "                                               dtype=<class 'numpy.float64'>,\n",
              "                                               handle_unknown='error',\n",
              "                                               sparse=True),\n",
              "                                 [1, 3, 5, 6, 7, 8, 9, 13])],\n",
              "                  verbose=False)"
            ]
          },
          "metadata": {
            "tags": []
          },
          "execution_count": 444
        }
      ]
    },
    {
      "cell_type": "code",
      "metadata": {
        "colab": {
          "base_uri": "https://localhost:8080/"
        },
        "id": "3GELAUqQt9O4",
        "outputId": "3851d377-94f2-4714-d8ab-98a6b96333a2"
      },
      "source": [
        "dump(labelencorder_saida, 'saidadicionario.joblib')"
      ],
      "execution_count": 439,
      "outputs": [
        {
          "output_type": "execute_result",
          "data": {
            "text/plain": [
              "['saidadicionario.joblib']"
            ]
          },
          "metadata": {
            "tags": []
          },
          "execution_count": 439
        }
      ]
    },
    {
      "cell_type": "code",
      "metadata": {
        "id": "DU0i1slOuCw4"
      },
      "source": [
        "labelencorder_saidanovo = load('saidadicionario.joblib')"
      ],
      "execution_count": 440,
      "outputs": []
    },
    {
      "cell_type": "code",
      "metadata": {
        "colab": {
          "base_uri": "https://localhost:8080/"
        },
        "id": "WT0qef-EuF4I",
        "outputId": "11f85444-a635-44f8-fa7e-ba0c276801c8"
      },
      "source": [
        "labelencorder_saidanovo"
      ],
      "execution_count": 441,
      "outputs": [
        {
          "output_type": "execute_result",
          "data": {
            "text/plain": [
              "LabelEncoder()"
            ]
          },
          "metadata": {
            "tags": []
          },
          "execution_count": 441
        }
      ]
    }
  ]
}
